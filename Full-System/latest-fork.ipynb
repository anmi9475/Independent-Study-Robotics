{
 "cells": [
  {
   "cell_type": "code",
   "execution_count": null,
   "metadata": {
    "tags": []
   },
   "outputs": [],
   "source": [
    "# Dylan Kriegman / May 2023\n",
    "# modified by Andrea Miller / Fall 2023\n",
    "#modified by Jensen Lavering / Fall 2023\n",
    "# usb port for dynamixel: tty.usbmodem14101\n",
    "\n",
    "# idea: failutre recovery << screws example\n"
   ]
  },
  {
   "cell_type": "code",
   "execution_count": 1,
   "metadata": {},
   "outputs": [
    {
     "name": "stdout",
     "output_type": "stream",
     "text": [
      "Jupyter environment detected. Enabling Open3D WebVisualizer.\n",
      "[Open3D INFO] WebRTC GUI backend enabled.\n",
      "[Open3D INFO] WebRTCWindowSystem: HTTP handshake server disabled.\n",
      "Succeeded to open the port\n",
      "Succeeded to change the baudrate\n",
      "Moving speed of dxl ID: 1 set to 100 \n",
      "Moving speed of dxl ID: 2 set to 100 \n",
      "Moving speed of dxl ID: 1 set to 100 \n",
      "Moving speed of dxl ID: 2 set to 100 \n",
      "UR5 + Gripper Interface Established\n"
     ]
    },
    {
     "name": "stderr",
     "output_type": "stream",
     "text": [
      "\n",
      "0: 384x640 1 Blue, 1 Red, 1 Yellow, 1365.7ms\n",
      "Speed: 10.4ms preprocess, 1365.7ms inference, 3.7ms postprocess per image at shape (1, 3, 384, 640)\n",
      "Results saved to \u001b[1m/home/andreamiller/ris/Independent-Study-Robotics/runs/segment/predict213\u001b[0m\n"
     ]
    },
    {
     "name": "stdout",
     "output_type": "stream",
     "text": [
      "[(1600, PointCloud with 1600 points.)]\n",
      "[(1438, PointCloud with 1438 points.)]\n",
      "[(838, PointCloud with 838 points.)]\n",
      "redBlock: [    -174.11     -1049.8     -47.699]\n",
      "yellowBlock: [    -55.441     -1058.2     -47.038]\n",
      "blueBlock: [    -120.83     -1091.5     -50.983]\n",
      "we got here\n",
      "<<INITIAL WORLD STATE>>\n",
      "on(yellowBlock,loc-a)\n",
      "clear(yellowBlock)\n",
      "on(redBlock,loc-c)\n",
      "clear(redBlock)\n",
      "on(blueBlock,loc-b)\n",
      "clear(blueBlock)\n",
      "fixed(loc-a)\n",
      "fixed(loc-b)\n",
      "fixed(loc-c)\n",
      "Domain PDDL written to domain.pddl.\n",
      "Problem PDDL written to problem.pddl.\n",
      "<<RUNNING FASTDOWNWARD PLANNER>>\n",
      "INFO     planner time limit: None\n",
      "INFO     planner memory limit: None\n",
      "\n",
      "INFO     Running translator.\n",
      "INFO     translator stdin: None\n",
      "INFO     translator time limit: None\n",
      "INFO     translator memory limit: None\n",
      "INFO     translator command line string: /home/andreamiller/ris/Independent-Study-Robotics/venv/bin/python3 /home/andreamiller/ris/downward/builds/release/bin/translate/translate.py domain.pddl problem.pddl --sas-file output.sas\n",
      "Parsing...\n",
      "Parsing: [0.000s CPU, 0.001s wall-clock]\n",
      "Normalizing task... [0.000s CPU, 0.000s wall-clock]\n",
      "Instantiating...\n",
      "Generating Datalog program... [0.000s CPU, 0.000s wall-clock]\n",
      "Normalizing Datalog program...\n",
      "Normalizing Datalog program: [0.000s CPU, 0.001s wall-clock]\n",
      "Preparing model... [0.000s CPU, 0.000s wall-clock]\n",
      "Generated 10 rules.\n",
      "Computing model... [0.000s CPU, 0.001s wall-clock]\n",
      "157 relevant atoms\n",
      "48 auxiliary atoms\n",
      "205 final queue length\n",
      "538 total queue pushes\n",
      "Completing instantiation... [0.010s CPU, 0.003s wall-clock]\n",
      "Instantiating: [0.010s CPU, 0.006s wall-clock]\n",
      "Computing fact groups...\n",
      "Finding invariants...\n",
      "5 initial candidates\n",
      "Finding invariants: [0.000s CPU, 0.001s wall-clock]\n",
      "Checking invariant weight... [0.000s CPU, 0.000s wall-clock]\n",
      "Instantiating groups... [0.000s CPU, 0.000s wall-clock]\n",
      "Collecting mutex groups... [0.000s CPU, 0.000s wall-clock]\n",
      "Choosing groups...\n",
      "6 uncovered facts\n",
      "Choosing groups: [0.000s CPU, 0.000s wall-clock]\n",
      "Building translation key... [0.000s CPU, 0.000s wall-clock]\n",
      "Computing fact groups: [0.000s CPU, 0.002s wall-clock]\n",
      "Building STRIPS to SAS dictionary... [0.000s CPU, 0.000s wall-clock]\n",
      "Building dictionary for full mutex groups... [0.000s CPU, 0.000s wall-clock]\n",
      "Building mutex information...\n",
      "Building mutex information: [0.000s CPU, 0.000s wall-clock]\n",
      "Translating task...\n",
      "Processing axioms...\n",
      "Simplifying axioms... [0.000s CPU, 0.000s wall-clock]\n",
      "Translator axioms removed by simplifying: 0\n",
      "Computing negative axioms... [0.000s CPU, 0.000s wall-clock]\n",
      "Processing axioms: [0.000s CPU, 0.000s wall-clock]\n",
      "Translating task: [0.000s CPU, 0.003s wall-clock]\n",
      "75 effect conditions simplified\n",
      "0 implied preconditions added\n",
      "Detecting unreachable propositions...\n",
      "0 operators removed\n",
      "0 axioms removed\n",
      "3 propositions removed\n",
      "Detecting unreachable propositions: [0.000s CPU, 0.001s wall-clock]\n",
      "Reordering and filtering variables...\n",
      "9 of 9 variables necessary.\n",
      "0 of 3 mutex groups necessary.\n",
      "90 of 90 operators necessary.\n",
      "0 of 0 axiom rules necessary.\n",
      "Reordering and filtering variables: [0.000s CPU, 0.001s wall-clock]\n",
      "Translator variables: 9\n",
      "Translator derived variables: 0\n",
      "Translator facts: 30\n",
      "Translator goal facts: 1\n",
      "Translator mutex groups: 0\n",
      "Translator total mutex groups size: 0\n",
      "Translator operators: 90\n",
      "Translator axioms: 0\n",
      "Translator task size: 625\n",
      "Translator peak memory: 34112 KB\n",
      "Writing output... [0.000s CPU, 0.001s wall-clock]\n",
      "Done! [0.010s CPU, 0.015s wall-clock]\n",
      "translate exit code: 0\n",
      "\n",
      "INFO     Running search (release).\n",
      "INFO     search stdin: output.sas\n",
      "INFO     search time limit: None\n",
      "INFO     search memory limit: None\n",
      "INFO     search command line string: /home/andreamiller/ris/downward/builds/release/bin/downward --search 'astar(lmcut())' --internal-plan-file sas_plan < output.sas\n",
      "[t=0.000122052s, 10012 KB] reading input...\n",
      "[t=0.000579463s, 10012 KB] done reading input!\n",
      "[t=0.0016664s, 10268 KB] Initializing landmark cut heuristic...\n",
      "[t=0.00172638s, 10268 KB] Building successor generator...done!\n",
      "[t=0.00187221s, 10268 KB] peak memory difference for successor generator creation: 0 KB\n",
      "[t=0.00188692s, 10268 KB] time for successor generation creation: 5.7496e-05s\n",
      "[t=0.00190308s, 10268 KB] Variables: 9\n",
      "[t=0.00191907s, 10268 KB] FactPairs: 30\n",
      "[t=0.0019331s, 10268 KB] Bytes per state: 4\n",
      "[t=0.00195832s, 10268 KB] Conducting best first search with reopening closed nodes, (real) bound = 2147483647\n",
      "[t=0.00199561s, 10268 KB] New best heuristic value for lmcut(): 1\n",
      "[t=0.00201675s, 10268 KB] g=0, 1 evaluated, 0 expanded\n",
      "[t=0.00203129s, 10268 KB] f = 1, 1 evaluated, 0 expanded\n",
      "[t=0.00204721s, 10268 KB] Initial heuristic value for lmcut(): 1\n",
      "[t=0.00206479s, 10268 KB] pruning method: none\n",
      "[t=0.00213927s, 10268 KB] New best heuristic value for lmcut(): 0\n",
      "[t=0.00215787s, 10268 KB] g=1, 8 evaluated, 1 expanded\n",
      "[t=0.00218677s, 10268 KB] Solution found!\n",
      "[t=0.00220326s, 10268 KB] Actual search time: 0.000148432s\n",
      "move redblock loc-c yellowblock (1)\n",
      "[t=0.00223285s, 10268 KB] Plan length: 1 step(s).\n",
      "[t=0.00223285s, 10268 KB] Plan cost: 1\n",
      "[t=0.00223285s, 10268 KB] Expanded 2 state(s).\n",
      "[t=0.00223285s, 10268 KB] Reopened 0 state(s).\n",
      "[t=0.00223285s, 10268 KB] Evaluated 10 state(s).\n",
      "[t=0.00223285s, 10268 KB] Evaluations: 10\n",
      "[t=0.00223285s, 10268 KB] Generated 9 state(s).\n",
      "[t=0.00223285s, 10268 KB] Dead ends: 0 state(s).\n",
      "[t=0.00223285s, 10268 KB] Expanded until last jump: 0 state(s).\n",
      "[t=0.00223285s, 10268 KB] Reopened until last jump: 0 state(s).\n",
      "[t=0.00223285s, 10268 KB] Evaluated until last jump: 1 state(s).\n",
      "[t=0.00223285s, 10268 KB] Generated until last jump: 0 state(s).\n",
      "[t=0.00223285s, 10268 KB] Number of registered states: 10\n",
      "[t=0.00223285s, 10268 KB] Int hash set load factor: 10/16 = 0.625\n",
      "[t=0.00223285s, 10268 KB] Int hash set resizes: 4\n",
      "[t=0.00223285s, 10268 KB] Search time: 0.000275031s\n",
      "[t=0.00223285s, 10268 KB] Total time: 0.00223285s\n",
      "Solution found.\n",
      "Peak memory: 10268 KB\n",
      "Remove intermediate file output.sas\n",
      "search exit code: 0\n",
      "\n",
      "INFO     Planner time: 0.09s\n",
      "<<PLANNER OUTPUT>>\n",
      "Action: move\n",
      "objectToMove: redBlock\n",
      "To: yellowBlock\n",
      "Pickup redBlock at [  -0.068101    0.027732     0.40552]\n",
      "Release on object yellowBlock at position [    0.04954    0.021957     0.38879]\n",
      "[(array([  -0.068101,    0.027732,     0.40552]), array([    0.04954,    0.021957,     0.38879]))]\n",
      "redBlock - [-0.06810147459163624, 0.027732298784250764, 0.4055249461815833]\n",
      "yellowBlock - [0.04954005153451022, 0.021957143356811655, 0.388788668090972]\n",
      "blueBlock - [-0.007031646902020117, 0.03410440718413164, 0.434029429273635]\n",
      "Successfully closed port\n"
     ]
    }
   ],
   "source": [
    "#This runs and pops up the PCD and other related data then disconnects everything! No need to restart Kernal!!!!!\n",
    "%run DisplayPCD.py"
   ]
  },
  {
   "cell_type": "code",
   "execution_count": 1,
   "metadata": {},
   "outputs": [
    {
     "data": {
      "text/plain": [
       "'(move redblock loc-a yellowblock)\\n; cost = 1 (unit cost)\\n'"
      ]
     },
     "execution_count": 1,
     "metadata": {},
     "output_type": "execute_result"
    }
   ],
   "source": [
    "planFile = open(\"./sas_plan\", \"r\")\n",
    "fileText = planFile.read()\n",
    "fileText"
   ]
  },
  {
   "cell_type": "code",
   "execution_count": null,
   "metadata": {},
   "outputs": [
    {
     "name": "stdout",
     "output_type": "stream",
     "text": [
      "Succeeded to open the port\n",
      "Succeeded to change the baudrate\n",
      "Moving speed of dxl ID: 1 set to 100 \n",
      "Moving speed of dxl ID: 2 set to 100 \n",
      "Moving speed of dxl ID: 1 set to 100 \n",
      "Moving speed of dxl ID: 2 set to 100 \n",
      "UR5 + Gripper Interface Established\n"
     ]
    }
   ],
   "source": [
    "%run RunBlockTest.py"
   ]
  },
  {
   "cell_type": "markdown",
   "metadata": {},
   "source": [
    "## Start experiment here\n"
   ]
  },
  {
   "cell_type": "code",
   "execution_count": null,
   "metadata": {
    "tags": []
   },
   "outputs": [],
   "source": [
    "# EXPERIMENT STEP (0) - Hardware Discovery\n",
    "# Call this once to intialize serial connections to ur and gripper\n",
    "import rtde_control\n",
    "import rtde_receive\n",
    "robotIP = \"192.168.0.6\"\n",
    "con = rtde_control.RTDEControlInterface(robotIP)\n",
    "rec = rtde_receive.RTDEReceiveInterface(robotIP)"
   ]
  },
  {
   "cell_type": "code",
   "execution_count": null,
   "metadata": {
    "tags": []
   },
   "outputs": [],
   "source": [
    "# EXPERIMENT STEP (0) - Gripper Discovery\n",
    "# To list serial ports of the motor interface\n",
    "# $ python -m serial.tools.list_ports\n",
    "from Motor_Code import Motors\n",
    "import UR5_Interface as ur\n",
    "servoPort = \"/dev/ttyACM0\"\n",
    "gripperController = Motors(servoPort)\n",
    "gripperController.torquelimit(600) # used to be 600\n",
    "gripperController.speedlimit(100)\n",
    "ur = ur.UR5_Interface()\n",
    "ur.gripperController = gripperController"
   ]
  },
  {
   "cell_type": "code",
   "execution_count": null,
   "metadata": {
    "tags": []
   },
   "outputs": [],
   "source": [
    "# EXPERIMENT STEP (1) - Hardware Interface Initialization\n",
    "try:\n",
    "    ur.c = con\n",
    "    ur.r = rec\n",
    "    ur.gripperController = gripperController\n",
    "except Exception as e:\n",
    "    raise(e)\n",
    "else:\n",
    "    print(\"UR5 + Gripper Interface Established\")"
   ]
  },
  {
   "cell_type": "code",
   "execution_count": null,
   "metadata": {
    "tags": []
   },
   "outputs": [],
   "source": [
    "ur.openGripper()"
   ]
  },
  {
   "cell_type": "code",
   "execution_count": null,
   "metadata": {
    "tags": []
   },
   "outputs": [],
   "source": [
    "# EXPERIMENT STEP (2) - Hardware Test - Raises gripper 1 cm and open's closes gripper\n",
    "ur.testRoutine()\n"
   ]
  },
  {
   "cell_type": "code",
   "execution_count": null,
   "metadata": {
    "tags": []
   },
   "outputs": [],
   "source": [
    "# EXPERIMENT STEP (3) - Initialize connection to RealSense\n",
    "import RealSense as real\n",
    "real = real.RealSense()\n",
    "real.initConnection()\n",
    "# real.displayStream()"
   ]
  },
  {
   "cell_type": "code",
   "execution_count": null,
   "metadata": {
    "tags": []
   },
   "outputs": [],
   "source": [
    "# EXPERIMENT STEP (4) - RealSense and YOLO Initialization\n",
    "# robot_model steps can deleted once extrinsic-free transforms are verfied to be correct\n",
    "# robot_model = RTB_Model()\n",
    "# robot_model.setJointAngles(ur.getJointAngles())\n",
    "import ObjectDetection as ob\n",
    "try:\n",
    "    detector = ob.ObjectDetection(real,None,moveRelative = True)\n",
    "except Exception as e:\n",
    "    detector.real.pipe.stop()\n",
    "    raise(e)"
   ]
  },
  {
   "cell_type": "code",
   "execution_count": null,
   "metadata": {
    "tags": []
   },
   "outputs": [],
   "source": [
    "ur.openGripper()"
   ]
  },
  {
   "cell_type": "code",
   "execution_count": null,
   "metadata": {
    "tags": []
   },
   "outputs": [],
   "source": [
    "# EXPERIMENT STEP (5) - Image Measurements, Segmentation, and Processing into Blocks\n",
    "# import Block as bl\n",
    "# urPose = ur.getPose()\n",
    "# pcd,rgbdImage = detector.real.getPCD()\n",
    "# depthImage,colorImage = rgbdImage.depth,rgbdImage.color\n",
    "# blocks = detector.getBlocksFromImages(colorImage,depthImage,urPose,display = True)\n",
    "# for block in blocks:\n",
    "#     print(f\"{block.name}:\")\n",
    "#     print(f\"CamFrameCoords: {block.camFrameCoords}\")\n",
    "#     print(f\"GripperFrameCoords: {block.gripperFrameCoords}\")\n",
    "#     print(f\"WorldFrameCoords: {block.worldFrameCoords}\")"
   ]
  },
  {
   "cell_type": "code",
   "execution_count": null,
   "metadata": {
    "tags": []
   },
   "outputs": [],
   "source": [
    "# EXPERIMENT STEP (4) - Displaying PCD\n",
    "# detector.displayWorld(pcd,blocks)"
   ]
  },
  {
   "cell_type": "code",
   "execution_count": null,
   "metadata": {
    "tags": []
   },
   "outputs": [],
   "source": [
    "# ur.openGripper()"
   ]
  },
  {
   "cell_type": "code",
   "execution_count": null,
   "metadata": {
    "tags": []
   },
   "outputs": [],
   "source": [
    "# EXPERIMENT STEP (5) - Task Planning\n",
    "\n",
    "import TaskPlanner as tp\n",
    "import Block as bl\n",
    "urPose = ur.getPose()\n",
    "pcd,rgbdImage = detector.real.getPCD()\n",
    "depthImage,colorImage = rgbdImage.depth,rgbdImage.color\n",
    "blocks = detector.getBlocksFromImages(colorImage,depthImage,urPose,display = True)\n",
    "\n",
    "planner = tp.TaskPlanner(blocks)\n",
    "goalDict = {\"on\":[(\"blueBlock\",\"yellowBlock\")]}\n",
    "steps = planner.generatePlan(goalDict)\n",
    "print(steps)\n",
    "for block in blocks:\n",
    "    print(f\"{block.name} - {list(block.gripperFrameCoords)}\")\n"
   ]
  },
  {
   "cell_type": "code",
   "execution_count": null,
   "metadata": {
    "tags": []
   },
   "outputs": [],
   "source": [
    "# EXPERIMENT STEP (6) - Grasping blocks at each position in steps, returning to start position, moving to release position, moving back to start, opening gripper\n",
    "sleepRate = 0.75\n",
    "def projectToWorldCoords(gripperFrameCoords):\n",
    "    # given a goal position in gripper coords returns the displacements from the current pose in world coords\n",
    "    xB,yB,zB = gripperFrameCoords\n",
    "    # subtract 0.165 from block position in gripper frame to account for gripper length\n",
    "    zB -= 0.155\n",
    "    currentPose = ur.getPose() #SE3 Object\n",
    "    # print(f\"Current Pose:\\n{currentPose*1000}\")\n",
    "    R = currentPose.R \n",
    "    pX,pY,pZ = tuple(currentPose.t)\n",
    "    # xB,yB,zB here is the block position in the gripper frame which is aligned with the optoforce frame\n",
    "    P_goal = np.matmul(R,np.array([xB,yB,zB]).T)  # relative position of the block in world coordinates\n",
    "    print(f\"P_goal:\\n{P_goal}\")\n",
    "    dX,dY,dZ = tuple(P_goal) # quantities and directions the the gripper frame should be incremented to be centered at the block \n",
    "    return dX,dY,dZ\n",
    "    \n",
    "def moveToBlock(blockPos):\n",
    "    # would be better if this was block object\n",
    "    # :blockPos is coord in gripper frame\n",
    "    dX,dY,dZ = projectToWorldCoords(blockPos) # goalPose in world coordinates\n",
    "    homePose = ur.getPose()\n",
    "    dZ  += 7/1000 # up 7 mm to avoid hitting lower block\n",
    "    goal1 = copy.deepcopy(homePose)\n",
    "    goal1.t[2] += dZ\n",
    "    ur.moveL(goal1)\n",
    "    time.sleep(sleepRate)\n",
    "    goal2 = goal1\n",
    "    goal2.t[0] += dX\n",
    "    goal2.t[1] += dY\n",
    "    ur.moveL(goal2)\n",
    "    time.sleep(sleepRate)\n",
    "    \n",
    "def moveBackFromBlock(homePose):    \n",
    "    currentPose = ur.getPose()\n",
    "    # Move up 3 mm to avoid raise block to prevent friction from toppling lower block\n",
    "    goal1 = copy.deepcopy(currentPose)\n",
    "    goal1.t[2] += 3/1000\n",
    "    ur.moveL(goal1)\n",
    "    time.sleep(sleepRate)\n",
    "    currentPose = ur.getPose()\n",
    "    dX,dY,dZ = tuple(homePose.t - currentPose.t)\n",
    "    # Move in the XY Plane then Z Axis\n",
    "    goal2 = copy.deepcopy(currentPose)\n",
    "    goal2.t[0] += dX\n",
    "    goal2.t[1] += dY\n",
    "    ur.moveL(goal2)\n",
    "    time.sleep(sleepRate)\n",
    "    # Move in Z Axis back to home\n",
    "    goal3 = copy.deepcopy(goal2)\n",
    "    goal3.t[2] += dZ\n",
    "    ur.moveL(goal3)\n",
    "    time.sleep(sleepRate)\n",
    "\n",
    "\n",
    "    \n"
   ]
  },
  {
   "cell_type": "code",
   "execution_count": null,
   "metadata": {},
   "outputs": [],
   "source": [
    "import numpy as np\n",
    "import spatialmath as sm\n",
    "import copy\n",
    "import time\n",
    "\n",
    "goalBlock = blocks[1]\n",
    "blockLength = 0.02\n",
    "releaseCoords = goalBlock.gripperFrameCoords + goalBlock.getWorldFrameVerticalInGripper(blockLength)\n",
    "verticalDist = 0.02\n",
    "gX,gY,gZ = tuple(goalBlock.urPose.t)\n",
    "res = np.matmul(goalBlock.urPose.R,(sm.SE3.Trans([gX,gY,gZ+verticalDist]).t - goalBlock.urPose.t))\n",
    "# print(f\"res: {projectToWorldCoords(res)} \")\n",
    "# ur.openGripper() # Open gripper\n",
    "# ur.testRoutine()\n",
    "homePose = ur.getPose()\n",
    "\n",
    "for step in steps:\n",
    "    # Grasp and Move Home Step\n",
    "    grabPos,releasePos = step\n",
    "    moveToBlock(grabPos) \n",
    "    print(\"Done moving to block\")\n",
    "    ur.closeGripper(9) \n",
    "    time.sleep(sleepRate)\n",
    "    moveBackFromBlock(homePose)\n",
    "    moveToBlock(releasePos)\n",
    "    ur.closeGripper(55)\n",
    "    moveBackFromBlock(homePose)\n",
    "    ur.openGripper()\n"
   ]
  },
  {
   "cell_type": "code",
   "execution_count": null,
   "metadata": {
    "tags": []
   },
   "outputs": [],
   "source": [
    "ur.c.disconnect()\n",
    "ur.r.disconnect()\n",
    "time.sleep(2)\n",
    "try:\n",
    "    robotIP = \"192.168.0.6\"\n",
    "    con = rtde_control.RTDEControlInterface(robotIP)\n",
    "    rec = rtde_receive.RTDEReceiveInterface(robotIP)\n",
    "    #ur = UR5_Interface() -- commented out since when imported it is defined as ur. if you run this before importing uncommnet --Jensen\n",
    "    ur.c = con\n",
    "    ur.r = rec\n",
    "    ur.gripperController = gripperController\n",
    "    time.sleep(5)\n",
    "    ur.testRoutine()\n",
    "except Exception as e:\n",
    "    raise(e)\n",
    "else:\n",
    "    print(\"UR5 + Gripper Interface Established\")\n",
    "\n"
   ]
  },
  {
   "cell_type": "code",
   "execution_count": null,
   "metadata": {
    "tags": []
   },
   "outputs": [],
   "source": []
  },
  {
   "cell_type": "code",
   "execution_count": null,
   "metadata": {
    "tags": []
   },
   "outputs": [],
   "source": [
    "planner.locPositions[\"loc-a\"]"
   ]
  },
  {
   "cell_type": "code",
   "execution_count": null,
   "metadata": {
    "tags": []
   },
   "outputs": [],
   "source": [
    "ur.moveL(homePose)"
   ]
  },
  {
   "cell_type": "code",
   "execution_count": null,
   "metadata": {
    "tags": []
   },
   "outputs": [],
   "source": [
    "ur.openGripper()"
   ]
  },
  {
   "cell_type": "code",
   "execution_count": null,
   "metadata": {},
   "outputs": [],
   "source": [
    "ur.moveL(homePose)"
   ]
  },
  {
   "cell_type": "code",
   "execution_count": null,
   "metadata": {
    "tags": []
   },
   "outputs": [],
   "source": [
    "ur.openGripper()"
   ]
  },
  {
   "cell_type": "code",
   "execution_count": null,
   "metadata": {
    "tags": []
   },
   "outputs": [],
   "source": [
    "# MAY WANT TO BREAK THIS UP INTO SEPARATE CELLS\n",
    "import UR5_Interface as ur \n",
    "def runRoutine():\n",
    "    print(\"1\")\n",
    "    try:\n",
    "        #ur = UR5_Interface()\n",
    "        ur.c = con\n",
    "        ur.r = rec\n",
    "        ur.gripperController = gripperController\n",
    "    except Exception as e:\n",
    "        raise(e)\n",
    "        \n",
    "    print(\"2\")\n",
    "    # robot_model = RTB_Model()\n",
    "    # robot_model.setJointAngles(ur.getJointAngles())\n",
    "    # Set joint angles so object detection has correct extrinsics\n",
    "    \n",
    "    # Instantiates ObjectDetection object which intializes a connection to the realsense\n",
    "    detector = ObjectDetection(robot_model,moveRelative = True)\n",
    "    \n",
    "    try:\n",
    "        \n",
    "        ur.openGripper()\n",
    "        print(f\"Nth Frame Pose:\\n{np.array(ur.getPose())}\")\n",
    "        # Takes images for display\n",
    "        pcd,rgbdImage = detector.real.getPCD()\n",
    "        depthImage,colorImage = rgbdImage.depth,rgbdImage.color\n",
    "        # detector.real.displayImages(depthImage,colorImage)\n",
    "        \n",
    "        blocks = detector.getBlocksFromImages(colorImage,depthImage)\n",
    "        for block in blocks:\n",
    "            print(f\"{block.name}:\")\n",
    "            print(f\"CamFrameCoords: {block.camFrameCoords}\")\n",
    "            print(f\"GripperFrameCoords: {block.gripperFrameCoords}\")\n",
    "            print(f\"WorldFrameCoords: {block.worldFrameCoords}\")\n",
    "        m = MotionPlanner(blocks,moveRelative = True)\n",
    "        # Interface to the UR5\n",
    "        m.ur = ur \n",
    "        # m.rtb_model = robot_model\n",
    "        redBlock,yellowBlock,blueBlock = blocks\n",
    "        redPCD,yellowPCD,bluePCD = redBlock.blockPCD,yellowBlock.blockPCD,blueBlock.blockPCD\n",
    "        redAABB,yellowAABB,blueAABB = redBlock.blockAABB,yellowBlock.blockAABB,blueBlock.blockAABB,\n",
    "        detector.real.displayPCD([redPCD,yellowPCD,bluePCD,redAABB,yellowAABB,blueAABB])\n",
    "        m.runMovement()\n",
    "        # time.sleep(3)\n",
    "        # ur.closeGripper(10)\n",
    "        \n",
    "    except Exception as e:\n",
    "        raise(e)\n",
    "    finally:\n",
    "        detector.real.pipe.stop()\n",
    "        # ur.c.disconnect()\n",
    "        # ur.r.disconnect()\n",
    "runRoutine()"
   ]
  },
  {
   "cell_type": "code",
   "execution_count": null,
   "metadata": {
    "tags": []
   },
   "outputs": [],
   "source": [
    "ur.c.disconnect()\n",
    "ur.r.disconnect()"
   ]
  },
  {
   "cell_type": "code",
   "execution_count": null,
   "metadata": {},
   "outputs": [],
   "source": []
  },
  {
   "cell_type": "markdown",
   "metadata": {
    "tags": []
   },
   "source": [
    "robot_model = RTB_Model()\n",
    "robot_model.plotRobot()\n",
    "x,y,z = [],[],[]\n",
    "for point in redPCD.points:\n",
    "    x.append(point[0])\n",
    "    y.append(point[1])\n",
    "    z.append(point[2])\n",
    "\n",
    "print(np.mean(x))\n",
    "print(np.mean(y))\n",
    "print(np.mean(z))\n",
    "fig = plt.figure()\n",
    "ax = fig.add_subplot(projection='3d')\n",
    "ax.scatter(x,y,z)\n",
    "plt.show()"
   ]
  },
  {
   "cell_type": "code",
   "execution_count": null,
   "metadata": {},
   "outputs": [],
   "source": [
    "(real.extrinsics is None) == False"
   ]
  },
  {
   "cell_type": "code",
   "execution_count": null,
   "metadata": {},
   "outputs": [],
   "source": []
  }
 ],
 "metadata": {
  "kernelspec": {
   "display_name": "Python 3 (ipykernel)",
   "language": "python",
   "name": "python3"
  },
  "language_info": {
   "codemirror_mode": {
    "name": "ipython",
    "version": 3
   },
   "file_extension": ".py",
   "mimetype": "text/x-python",
   "name": "python",
   "nbconvert_exporter": "python",
   "pygments_lexer": "ipython3",
   "version": "3.10.12"
  }
 },
 "nbformat": 4,
 "nbformat_minor": 4
}
