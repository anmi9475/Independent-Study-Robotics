{
 "cells": [
  {
   "cell_type": "code",
   "execution_count": null,
   "metadata": {
    "tags": []
   },
   "outputs": [],
   "source": [
    "# Dylan Kriegman / May 2023\n",
    "# modified by Andrea Miller / Fall 2023\n",
    "\n",
    "# usb port for dynamixel: tty.usbmodem14101\n",
    "\n",
    "# idea: failutre recovery << screws example\n"
   ]
  },
  {
   "cell_type": "code",
   "execution_count": null,
   "metadata": {
    "tags": []
   },
   "outputs": [],
   "source": [
    "import pyrealsense2 as rs\n",
    "import open3d as o3d\n",
    "o3d.utility.set_verbosity_level(o3d.utility.VerbosityLevel.Debug)\n",
    "import numpy as np\n",
    "import math\n",
    "import cv2 as cv\n",
    "import scipy.ndimage as nd\n",
    "# Used to display Matplotlib plots in Jupyter\n",
    "# %matplotlib inline\n",
    "import matplotlib.pyplot as plt\n",
    "import time\n",
    "\n",
    "# PIL used to save images as pngs\"\n",
    "from PIL import Image\n",
    "\n",
    "# Robotics Toolbox used to determine camera coordinate frame given joint angles\n",
    "import roboticstoolbox as rtb\n",
    "\n",
    "# Spatial Math is used for manipulating geometric primitives\n",
    "import spatialmath as sm\n",
    "from spatialmath import SE3\n",
    "\n",
    "# Poses is from rmlib and used for converting between 4 x 4 homogenous pose and 6 element vector representation (x,y,z,rx,ry,rz)\n",
    "import poses\n",
    " \n",
    "import copy\n",
    "\n",
    "import swift\n",
    "\n",
    "from spatialgeometry.geom.CollisionShape import (CollisionShape,Mesh,Cylinder,Cuboid,Box,Sphere)\n",
    "\n",
    "import spatialgeometry as sg\n",
    "\n",
    "# UR Interface\n",
    "import rtde_control\n",
    "import rtde_receive\n",
    "\n",
    "# Gripper Interface \n",
    "from Motor_Code import Motors\n",
    "\n",
    "# For insterfacing with fast downward solver\n",
    "import os\n",
    "\n",
    "# This class was created for this project. Connects to the gripper and has some test functions. - Jensen\n",
    "import UR5_Interface as ur"
   ]
  },
  {
   "cell_type": "code",
   "execution_count": null,
   "metadata": {},
   "outputs": [],
   "source": [
    "import serial.tools.list_ports\n",
    "ports = []\n",
    "for port in serial.tools.list_ports.comports():\n",
    "    ports.append(port.name)\n",
    "print(ports)"
   ]
  },
  {
   "cell_type": "code",
   "execution_count": null,
   "metadata": {
    "tags": []
   },
   "outputs": [],
   "source": [
    "# Call this once to intialize serial connections to ur and gripper\n",
    "# To list serial ports of the motor interface\n",
    "# $ python -m serial.tools.list_ports\n",
    "\n",
    "\n",
    "robotIP = \"192.168.0.6\"\n",
    "con = rtde_control.RTDEControlInterface(robotIP)\n",
    "rec = rtde_receive.RTDEReceiveInterface(robotIP)\n",
    "\n",
    "# original: servoPort = \"/dev/ttyACM0\"\n",
    "# use 'ls /dev' in terminal to find port address being used by dynamixel motor\n",
    "servoPort = \"/dev/ttyACM0\"\n",
    "\n",
    "# original: gripperController = Motors(servoPort)\n",
    "gripperController = Motors(servoPort)\n",
    "\n",
    "gripperController.torquelimit(600)\n"
   ]
  },
  {
   "cell_type": "code",
   "execution_count": null,
   "metadata": {
    "tags": []
   },
   "outputs": [],
   "source": [
    "# con.disconnect()\n",
    "# rec.disconnect()"
   ]
  },
  {
   "cell_type": "code",
   "execution_count": null,
   "metadata": {
    "tags": []
   },
   "outputs": [],
   "source": [
    "\n",
    "try:\n",
    "    #ur = UR5_Interface() -- commneted out since I changed the class to an import -Jensen\n",
    "    ur.c,ur.r,ur.gripperController = con,rec,gripperController\n",
    "    ur.testRoutine()\n",
    "    \n",
    "    \n",
    "except Exception as e:\n",
    "    raise(e)\n",
    "finally:\n",
    "    pass\n",
    "    # ur.c.disconnect()\n",
    "    # ur.r.disconnect()\n"
   ]
  },
  {
   "cell_type": "code",
   "execution_count": null,
   "metadata": {
    "tags": []
   },
   "outputs": [],
   "source": [
    "#Kinematic Model of the Robot in the Robotics Toolbox for Python (RTB) \n",
    "# Not needed but can be helpful for testing\n",
    "import RTB_Model as r\n",
    "    "
   ]
  },
  {
   "cell_type": "code",
   "execution_count": null,
   "metadata": {
    "tags": []
   },
   "outputs": [],
   "source": [
    "# unable to run last line, ''UR5' object has no attribute 'ikine_LMS' -Andrea\n",
    "\n",
    "#r = RTB_Model() -- commneted out since I changed the class to an import -Jensen\n",
    "r.getCameraFrame()\n",
    "r.initSwiftEnv()\n",
    "r.addSwiftBox([0,0,0.5])\n",
    "r.simulateSwiftRobot()"
   ]
  },
  {
   "cell_type": "code",
   "execution_count": null,
   "metadata": {
    "tags": []
   },
   "outputs": [],
   "source": [
    "#Needed for camera use!! -Jensen\n",
    "import RealSense as real"
   ]
  },
  {
   "cell_type": "code",
   "execution_count": null,
   "metadata": {},
   "outputs": [],
   "source": [
    "pipe = rs.pipeline()\n",
    "config = rs.config()\n",
    "profile = pipe.start()\n",
    "try:\n",
    "  for i in range(0, 100):\n",
    "    frames = pipe.wait_for_frames()\n",
    "    for f in frames:\n",
    "      print(f.profile)\n",
    "finally:\n",
    "    pipe.stop()"
   ]
  },
  {
   "cell_type": "code",
   "execution_count": null,
   "metadata": {},
   "outputs": [],
   "source": [
    "\n",
    "# robot_model = RTB_Model()\n",
    "#real = RealSense() -- not need since Imported --Jensen\n",
    "real.initConnection()\n",
    "# real.getPCD(True)\n",
    "# real.extrinsics = np.array(robot_model.getCameraFrame())\n",
    "# print(real.extrinsics)\n",
    "pcd,rgbdImage = real.getPCD(False)\n",
    "depthImage,colorImage = rgbdImage.depth,rgbdImage.color\n",
    "real.displayImages(colorImage,depthImage)\n",
    "# real.displayPCD(pcd)\n",
    "real.pipe.stop()\n",
    "\n",
    "# o3d.visualization.draw()\n",
    "# r.displayStream()\n",
    "# finally:\n",
    "#     r.pipe.stop()\n",
    "# profile = pipe.start(config)\n",
    "# depth_sensor = profile.get_device().first_depth_sensor()\n",
    "# print(\n",
    "# r.displayStream(pipe,config)\n"
   ]
  },
  {
   "cell_type": "code",
   "execution_count": null,
   "metadata": {
    "tags": []
   },
   "outputs": [],
   "source": [
    "# real = RealSense()\n",
    "# real.initConnection()\n",
    "# real.displayStream()"
   ]
  },
  {
   "cell_type": "code",
   "execution_count": null,
   "metadata": {
    "tags": []
   },
   "outputs": [],
   "source": [
    "\n",
    "robot_model = RTB_Model()\n",
    "real = RealSense()\n",
    "real.extrinsics = np.array(robot_model.getCameraFrame())\n",
    "print(real.extrinsics)\n",
    "pcd = o3d.io.read_point_cloud(\"pcd1.pcd\")\n",
    "real.displayPCD(pcd)\n"
   ]
  },
  {
   "cell_type": "code",
   "execution_count": null,
   "metadata": {
    "tags": []
   },
   "outputs": [],
   "source": [
    "#Needed for the experiment --Jensen\n",
    "import Block "
   ]
  },
  {
   "cell_type": "code",
   "execution_count": null,
   "metadata": {
    "tags": []
   },
   "outputs": [],
   "source": [
    "#Needed for the experiment I think --Jensen\n",
    "import ObjectDetection"
   ]
  },
  {
   "cell_type": "code",
   "execution_count": null,
   "metadata": {
    "tags": []
   },
   "outputs": [],
   "source": [
    "#Needed \n",
    "import MotionPlanner"
   ]
  },
  {
   "cell_type": "code",
   "execution_count": null,
   "metadata": {
    "tags": []
   },
   "outputs": [],
   "source": []
  },
  {
   "cell_type": "code",
   "execution_count": null,
   "metadata": {
    "tags": []
   },
   "outputs": [],
   "source": [
    "# TASK PLANNER CODE\n",
    "\n",
    "import blocksDomain\n",
    "import blocksProblem\n",
    "#contiuation of code above --Jesnen\n",
    "import TaskPlanner"
   ]
  },
  {
   "cell_type": "code",
   "execution_count": null,
   "metadata": {
    "tags": []
   },
   "outputs": [],
   "source": [
    "# EXPERIMENT STEP (0) - Hardware Discovery\n",
    "# Call this once to intialize serial connections to ur and gripper\n",
    "\n",
    "robotIP = \"192.168.0.6\"\n",
    "con = rtde_control.RTDEControlInterface(robotIP)\n",
    "rec = rtde_receive.RTDEReceiveInterface(robotIP)"
   ]
  },
  {
   "cell_type": "code",
   "execution_count": null,
   "metadata": {
    "tags": []
   },
   "outputs": [],
   "source": []
  },
  {
   "cell_type": "code",
   "execution_count": null,
   "metadata": {
    "tags": []
   },
   "outputs": [],
   "source": [
    "# EXPERIMENT STEP (0) - Gripper Discovery\n",
    "# To list serial ports of the motor interface\n",
    "# $ python -m serial.tools.list_ports\n",
    "servoPort = \"/dev/ttyACM0\"\n",
    "gripperController = Motors(servoPort)\n",
    "gripperController.torquelimit(600) # used to be 600\n",
    "gripperController.speedlimit(100)\n",
    "ur = UR5_Interface()\n",
    "ur.gripperController = gripperController"
   ]
  },
  {
   "cell_type": "code",
   "execution_count": null,
   "metadata": {
    "tags": []
   },
   "outputs": [],
   "source": [
    "# EXPERIMENT STEP (1) - Hardware Interface Initialization\n",
    "try:\n",
    "    # robotIP = \"192.168.0.6\"\n",
    "    # con = rtde_control.RTDEControlInterface(robotIP)\n",
    "    # rec = rtde_receive.RTDEReceiveInterface(robotIP)\n",
    "    # ur = UR5_Interface()\n",
    "    ur.c = con\n",
    "    ur.r = rec\n",
    "    ur.gripperController = gripperController\n",
    "except Exception as e:\n",
    "    raise(e)\n",
    "else:\n",
    "    print(\"UR5 + Gripper Interface Established\")"
   ]
  },
  {
   "cell_type": "code",
   "execution_count": null,
   "metadata": {
    "tags": []
   },
   "outputs": [],
   "source": [
    "ur.c.disconnect()\n",
    "ur.r.disconnect()"
   ]
  },
  {
   "cell_type": "code",
   "execution_count": null,
   "metadata": {
    "tags": []
   },
   "outputs": [],
   "source": [
    "# EXPERIMENT STEP (2) - Hardware Test - Raises gripper 1 cm and open's closes gripper\n",
    "ur.testRoutine()"
   ]
  },
  {
   "cell_type": "code",
   "execution_count": null,
   "metadata": {
    "tags": []
   },
   "outputs": [],
   "source": [
    "# EXPERIMENT STEP (3) - Initialize connection to RealSense\n",
    "real = RealSense()\n",
    "real.initConnection()\n",
    "# real.displayStream()"
   ]
  },
  {
   "cell_type": "code",
   "execution_count": null,
   "metadata": {
    "tags": []
   },
   "outputs": [],
   "source": [
    "# EXPERIMENT STEP (4) - RealSense and YOLO Initialization\n",
    "# robot_model steps can deleted once extrinsic-free transforms are verfied to be correct\n",
    "# robot_model = RTB_Model()\n",
    "# robot_model.setJointAngles(ur.getJointAngles())\n",
    "try:\n",
    "    detector = ObjectDetection(real,None,moveRelative = True)\n",
    "except Exception as e:\n",
    "    detector.real.pipe.stop()\n",
    "    raise(e)"
   ]
  },
  {
   "cell_type": "code",
   "execution_count": null,
   "metadata": {
    "tags": []
   },
   "outputs": [],
   "source": [
    "ur.openGripper()"
   ]
  },
  {
   "cell_type": "code",
   "execution_count": null,
   "metadata": {
    "tags": []
   },
   "outputs": [],
   "source": [
    "# EXPERIMENT STEP (5) - Image Measurements, Segmentation, and Processing into Blocks\n",
    "urPose = ur.getPose()\n",
    "pcd,rgbdImage = detector.real.getPCD()\n",
    "depthImage,colorImage = rgbdImage.depth,rgbdImage.color\n",
    "blocks = detector.getBlocksFromImages(colorImage,depthImage,urPose,display = True)\n",
    "for block in blocks:\n",
    "    print(f\"{block.name}:\")\n",
    "    print(f\"CamFrameCoords: {block.camFrameCoords}\")\n",
    "    print(f\"GripperFrameCoords: {block.gripperFrameCoords}\")\n",
    "    print(f\"WorldFrameCoords: {block.worldFrameCoords}\")"
   ]
  },
  {
   "cell_type": "code",
   "execution_count": null,
   "metadata": {
    "tags": []
   },
   "outputs": [],
   "source": [
    "# EXPERIMENT STEP (4) - Displaying PCD\n",
    "detector.displayWorld(pcd,blocks)"
   ]
  },
  {
   "cell_type": "code",
   "execution_count": null,
   "metadata": {
    "tags": []
   },
   "outputs": [],
   "source": [
    "ur.openGripper()"
   ]
  },
  {
   "cell_type": "code",
   "execution_count": null,
   "metadata": {
    "tags": []
   },
   "outputs": [],
   "source": [
    "# EXPERIMENT STEP (5) - Task Planning\n",
    "planner = TaskPlanner(blocks)\n",
    "goalDict = {\"on\":[(\"blueBlock\",\"yellowBlock\")]}\n",
    "steps = planner.generatePlan(goalDict)\n",
    "print(steps)\n",
    "for block in blocks:\n",
    "    print(f\"{block.name} - {list(block.gripperFrameCoords)}\")\n"
   ]
  },
  {
   "cell_type": "code",
   "execution_count": null,
   "metadata": {
    "tags": []
   },
   "outputs": [],
   "source": []
  },
  {
   "cell_type": "code",
   "execution_count": null,
   "metadata": {
    "tags": []
   },
   "outputs": [],
   "source": [
    "# EXPERIMENT STEP (6) - Grasping blocks at each position in steps, returning to start position, moving to release position, moving back to start, opening gripper\n",
    "sleepRate = 0.75\n",
    "def projectToWorldCoords(gripperFrameCoords):\n",
    "    # given a goal position in gripper coords returns the displacements from the current pose in world coords\n",
    "    xB,yB,zB = gripperFrameCoords\n",
    "    # subtract 0.165 from block position in gripper frame to account for gripper length\n",
    "    zB -= 0.155\n",
    "    currentPose = ur.getPose() #SE3 Object\n",
    "    # print(f\"Current Pose:\\n{currentPose*1000}\")\n",
    "    R = currentPose.R \n",
    "    pX,pY,pZ = tuple(currentPose.t)\n",
    "    # xB,yB,zB here is the block position in the gripper frame which is aligned with the optoforce frame\n",
    "    P_goal = np.matmul(R,np.array([xB,yB,zB]).T)  # relative position of the block in world coordinates\n",
    "    print(f\"P_goal:\\n{P_goal}\")\n",
    "    dX,dY,dZ = tuple(P_goal) # quantities and directions the the gripper frame should be incremented to be centered at the block \n",
    "    return dX,dY,dZ\n",
    "    \n",
    "def moveToBlock(blockPos):\n",
    "    # would be better if this was block object\n",
    "    # :blockPos is coord in gripper frame\n",
    "    dX,dY,dZ = projectToWorldCoords(blockPos) # goalPose in world coordinates\n",
    "    homePose = ur.getPose()\n",
    "    dZ  += 7/1000 # up 7 mm to avoid hitting lower block\n",
    "    goal1 = copy.deepcopy(homePose)\n",
    "    goal1.t[2] += dZ\n",
    "    ur.moveL(goal1)\n",
    "    time.sleep(sleepRate)\n",
    "    goal2 = goal1\n",
    "    goal2.t[0] += dX\n",
    "    goal2.t[1] += dY\n",
    "    ur.moveL(goal2)\n",
    "    time.sleep(sleepRate)\n",
    "    \n",
    "def moveBackFromBlock(homePose):    \n",
    "    currentPose = ur.getPose()\n",
    "    # Move up 3 mm to avoid raise block to prevent friction from toppling lower block\n",
    "    goal1 = copy.deepcopy(currentPose)\n",
    "    goal1.t[2] += 3/1000\n",
    "    ur.moveL(goal1)\n",
    "    time.sleep(sleepRate)\n",
    "    currentPose = ur.getPose()\n",
    "    dX,dY,dZ = tuple(homePose.t - currentPose.t)\n",
    "    # Move in the XY Plane then Z Axis\n",
    "    goal2 = copy.deepcopy(currentPose)\n",
    "    goal2.t[0] += dX\n",
    "    goal2.t[1] += dY\n",
    "    ur.moveL(goal2)\n",
    "    time.sleep(sleepRate)\n",
    "    # Move in Z Axis back to home\n",
    "    goal3 = copy.deepcopy(goal2)\n",
    "    goal3.t[2] += dZ\n",
    "    ur.moveL(goal3)\n",
    "    time.sleep(sleepRate)\n",
    "\n",
    "\n",
    "    \n",
    "goalBlock = blocks[1]\n",
    "blockLength = 0.02\n",
    "releaseCoords = goalBlock.gripperFrameCoords + goalBlock.getWorldFrameVerticalInGripper(blockLength)\n",
    "verticalDist = 0.02\n",
    "gX,gY,gZ = tuple(goalBlock.urPose.t)\n",
    "res = np.matmul(goalBlock.urPose.R,(sm.SE3.Trans([gX,gY,gZ+verticalDist]).t - goalBlock.urPose.t))\n",
    "# print(f\"res: {projectToWorldCoords(res)} \")\n",
    "# ur.openGripper() # Open gripper\n",
    "# ur.testRoutine()\n",
    "# homePose = ur.getPose()\n",
    "'''\n",
    "for step in steps:\n",
    "    # Grasp and Move Home Step\n",
    "    grabPos,releasePos = step\n",
    "    moveToBlock(grabPos) \n",
    "    print(\"Done moving to block\")\n",
    "    ur.closeGripper(9) \n",
    "    time.sleep(sleepRate)\n",
    "    moveBackFromBlock(homePose)\n",
    "    moveToBlock(releasePos)\n",
    "    ur.closeGripper(55)\n",
    "    moveBackFromBlock(homePose)\n",
    "    ur.openGripper()\n",
    "'''"
   ]
  },
  {
   "cell_type": "code",
   "execution_count": null,
   "metadata": {
    "tags": []
   },
   "outputs": [],
   "source": []
  },
  {
   "cell_type": "code",
   "execution_count": null,
   "metadata": {
    "tags": []
   },
   "outputs": [],
   "source": [
    "ur.c.disconnect()\n",
    "ur.r.disconnect()\n",
    "time.sleep(2)\n",
    "try:\n",
    "    robotIP = \"192.168.0.6\"\n",
    "    con = rtde_control.RTDEControlInterface(robotIP)\n",
    "    rec = rtde_receive.RTDEReceiveInterface(robotIP)\n",
    "    #ur = UR5_Interface() -- commented out since when imported it is defined as ur. if you run this before importing uncommnet --Jensen\n",
    "    ur.c = con\n",
    "    ur.r = rec\n",
    "    ur.gripperController = gripperController\n",
    "    time.sleep(5)\n",
    "    ur.testRoutine()\n",
    "except Exception as e:\n",
    "    raise(e)\n",
    "else:\n",
    "    print(\"UR5 + Gripper Interface Established\")\n",
    "\n"
   ]
  },
  {
   "cell_type": "code",
   "execution_count": null,
   "metadata": {
    "tags": []
   },
   "outputs": [],
   "source": []
  },
  {
   "cell_type": "code",
   "execution_count": null,
   "metadata": {
    "tags": []
   },
   "outputs": [],
   "source": [
    "planner.locPositions[\"loc-a\"]"
   ]
  },
  {
   "cell_type": "code",
   "execution_count": null,
   "metadata": {
    "tags": []
   },
   "outputs": [],
   "source": [
    "ur.moveL(homePose)"
   ]
  },
  {
   "cell_type": "code",
   "execution_count": null,
   "metadata": {
    "tags": []
   },
   "outputs": [],
   "source": [
    "ur.openGripper()"
   ]
  },
  {
   "cell_type": "code",
   "execution_count": null,
   "metadata": {},
   "outputs": [],
   "source": [
    "ur.moveL(homePose)"
   ]
  },
  {
   "cell_type": "code",
   "execution_count": null,
   "metadata": {
    "tags": []
   },
   "outputs": [],
   "source": [
    "ur.openGripper()"
   ]
  },
  {
   "cell_type": "code",
   "execution_count": null,
   "metadata": {
    "tags": []
   },
   "outputs": [],
   "source": [
    "# MAY WANT TO BREAK THIS UP INTO SEPARATE CELLS\n",
    "import UR5_Interface as ur \n",
    "def runRoutine():\n",
    "    print(\"1\")\n",
    "    try:\n",
    "        #ur = UR5_Interface()\n",
    "        ur.c = con\n",
    "        ur.r = rec\n",
    "        ur.gripperController = gripperController\n",
    "    except Exception as e:\n",
    "        raise(e)\n",
    "        \n",
    "    print(\"2\")\n",
    "    # robot_model = RTB_Model()\n",
    "    # robot_model.setJointAngles(ur.getJointAngles())\n",
    "    # Set joint angles so object detection has correct extrinsics\n",
    "    \n",
    "    # Instantiates ObjectDetection object which intializes a connection to the realsense\n",
    "    detector = ObjectDetection(robot_model,moveRelative = True)\n",
    "    \n",
    "    try:\n",
    "        \n",
    "        ur.openGripper()\n",
    "        print(f\"Nth Frame Pose:\\n{np.array(ur.getPose())}\")\n",
    "        # Takes images for display\n",
    "        pcd,rgbdImage = detector.real.getPCD()\n",
    "        depthImage,colorImage = rgbdImage.depth,rgbdImage.color\n",
    "        # detector.real.displayImages(depthImage,colorImage)\n",
    "        \n",
    "        blocks = detector.getBlocksFromImages(colorImage,depthImage)\n",
    "        for block in blocks:\n",
    "            print(f\"{block.name}:\")\n",
    "            print(f\"CamFrameCoords: {block.camFrameCoords}\")\n",
    "            print(f\"GripperFrameCoords: {block.gripperFrameCoords}\")\n",
    "            print(f\"WorldFrameCoords: {block.worldFrameCoords}\")\n",
    "        m = MotionPlanner(blocks,moveRelative = True)\n",
    "        # Interface to the UR5\n",
    "        m.ur = ur \n",
    "        # m.rtb_model = robot_model\n",
    "        redBlock,yellowBlock,blueBlock = blocks\n",
    "        redPCD,yellowPCD,bluePCD = redBlock.blockPCD,yellowBlock.blockPCD,blueBlock.blockPCD\n",
    "        redAABB,yellowAABB,blueAABB = redBlock.blockAABB,yellowBlock.blockAABB,blueBlock.blockAABB,\n",
    "        detector.real.displayPCD([redPCD,yellowPCD,bluePCD,redAABB,yellowAABB,blueAABB])\n",
    "        m.runMovement()\n",
    "        # time.sleep(3)\n",
    "        # ur.closeGripper(10)\n",
    "        \n",
    "    except Exception as e:\n",
    "        raise(e)\n",
    "    finally:\n",
    "        detector.real.pipe.stop()\n",
    "        # ur.c.disconnect()\n",
    "        # ur.r.disconnect()\n",
    "runRoutine()"
   ]
  },
  {
   "cell_type": "code",
   "execution_count": null,
   "metadata": {
    "tags": []
   },
   "outputs": [],
   "source": [
    "ur.c.disconnect()\n",
    "ur.r.disconnect()"
   ]
  },
  {
   "cell_type": "code",
   "execution_count": null,
   "metadata": {},
   "outputs": [],
   "source": []
  },
  {
   "cell_type": "markdown",
   "metadata": {
    "tags": []
   },
   "source": [
    "robot_model = RTB_Model()\n",
    "robot_model.plotRobot()\n",
    "x,y,z = [],[],[]\n",
    "for point in redPCD.points:\n",
    "    x.append(point[0])\n",
    "    y.append(point[1])\n",
    "    z.append(point[2])\n",
    "\n",
    "print(np.mean(x))\n",
    "print(np.mean(y))\n",
    "print(np.mean(z))\n",
    "fig = plt.figure()\n",
    "ax = fig.add_subplot(projection='3d')\n",
    "ax.scatter(x,y,z)\n",
    "plt.show()"
   ]
  },
  {
   "cell_type": "code",
   "execution_count": null,
   "metadata": {},
   "outputs": [],
   "source": [
    "(real.extrinsics is None) == False"
   ]
  },
  {
   "cell_type": "code",
   "execution_count": null,
   "metadata": {},
   "outputs": [],
   "source": []
  }
 ],
 "metadata": {
  "kernelspec": {
   "display_name": "Python 3 (ipykernel)",
   "language": "python",
   "name": "python3"
  },
  "language_info": {
   "codemirror_mode": {
    "name": "ipython",
    "version": 3
   },
   "file_extension": ".py",
   "mimetype": "text/x-python",
   "name": "python",
   "nbconvert_exporter": "python",
   "pygments_lexer": "ipython3",
   "version": "3.10.12"
  }
 },
 "nbformat": 4,
 "nbformat_minor": 4
}
