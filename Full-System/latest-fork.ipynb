{
 "cells": [
  {
   "cell_type": "code",
   "execution_count": 1,
   "metadata": {
    "tags": []
   },
   "outputs": [],
   "source": [
    "# Dylan Kriegman / May 2023\n",
    "# modified by Andrea Miller / Fall 2023\n",
    "\n",
    "# usb port for dynamixel: tty.usbmodem14101\n",
    "\n",
    "# idea: failutre recovery << screws example\n"
   ]
  },
  {
   "cell_type": "code",
   "execution_count": 2,
   "metadata": {
    "tags": []
   },
   "outputs": [
    {
     "name": "stdout",
     "output_type": "stream",
     "text": [
      "Jupyter environment detected. Enabling Open3D WebVisualizer.\n",
      "[Open3D INFO] WebRTC GUI backend enabled.\n",
      "[Open3D INFO] WebRTCWindowSystem: HTTP handshake server disabled.\n"
     ]
    }
   ],
   "source": [
    "import pyrealsense2 as rs\n",
    "import open3d as o3d\n",
    "o3d.utility.set_verbosity_level(o3d.utility.VerbosityLevel.Debug)\n",
    "import numpy as np\n",
    "import math\n",
    "import cv2 as cv\n",
    "import scipy.ndimage as nd\n",
    "# Used to display Matplotlib plots in Jupyter\n",
    "# %matplotlib inline\n",
    "import matplotlib.pyplot as plt\n",
    "import time\n",
    "\n",
    "# PIL used to save images as pngs\"\n",
    "from PIL import Image\n",
    "\n",
    "# Robotics Toolbox used to determine camera coordinate frame given joint angles\n",
    "import roboticstoolbox as rtb\n",
    "\n",
    "# Spatial Math is used for manipulating geometric primitives\n",
    "import spatialmath as sm\n",
    "from spatialmath import SE3\n",
    "\n",
    "# Poses is from rmlib and used for converting between 4 x 4 homogenous pose and 6 element vector representation (x,y,z,rx,ry,rz)\n",
    "import poses\n",
    " \n",
    "import copy\n",
    "\n",
    "import swift\n",
    "\n",
    "from spatialgeometry.geom.CollisionShape import (CollisionShape,Mesh,Cylinder,Cuboid,Box,Sphere)\n",
    "\n",
    "import spatialgeometry as sg\n",
    "\n",
    "# UR Interface\n",
    "import rtde_control\n",
    "import rtde_receive\n",
    "\n",
    "# Gripper Interface \n",
    "from Motor_Code import Motors\n",
    "\n",
    "# For insterfacing with fast downward solver\n",
    "import os\n",
    "\n",
    "# This class was created for this project. Connects to the gripper and has some test functions. - Jensen\n",
    "#import UR5_Interface as ur"
   ]
  },
  {
   "cell_type": "code",
   "execution_count": 3,
   "metadata": {},
   "outputs": [
    {
     "name": "stdout",
     "output_type": "stream",
     "text": [
      "['ttyS4', 'ttyS0', 'ttyACM0']\n"
     ]
    }
   ],
   "source": [
    "import serial.tools.list_ports\n",
    "ports = []\n",
    "for port in serial.tools.list_ports.comports():\n",
    "    ports.append(port.name)\n",
    "print(ports)"
   ]
  },
  {
   "cell_type": "code",
   "execution_count": 4,
   "metadata": {
    "tags": []
   },
   "outputs": [
    {
     "name": "stdout",
     "output_type": "stream",
     "text": [
      "Succeeded to open the port\n",
      "Succeeded to change the baudrate\n",
      "Moving speed of dxl ID: 1 set to 100 \n",
      "Moving speed of dxl ID: 2 set to 100 \n"
     ]
    }
   ],
   "source": [
    "# Call this once to intialize serial connections to ur and gripper\n",
    "# To list serial ports of the motor interface\n",
    "# $ python -m serial.tools.list_ports\n",
    "\n",
    "\n",
    "robotIP = \"192.168.0.6\"\n",
    "con = rtde_control.RTDEControlInterface(robotIP)\n",
    "rec = rtde_receive.RTDEReceiveInterface(robotIP)\n",
    "\n",
    "# original: servoPort = \"/dev/ttyACM0\"\n",
    "# use 'ls /dev' in terminal to find port address being used by dynamixel motor\n",
    "servoPort = \"/dev/ttyACM0\"\n",
    "\n",
    "# original: gripperController = Motors(servoPort)\n",
    "gripperController = Motors(servoPort)\n",
    "\n",
    "gripperController.torquelimit(600)\n"
   ]
  },
  {
   "cell_type": "code",
   "execution_count": 5,
   "metadata": {
    "tags": []
   },
   "outputs": [],
   "source": [
    "# con.disconnect()\n",
    "# rec.disconnect()"
   ]
  },
  {
   "cell_type": "code",
   "execution_count": 6,
   "metadata": {
    "tags": []
   },
   "outputs": [
    {
     "name": "stdout",
     "output_type": "stream",
     "text": [
      "Running Test Routine\n",
      "Running UR Test\n",
      "Running Gripper Test\n",
      "Position of dxl ID: 1 set to 303 \n",
      "Position of dxl ID: 2 set to 729 \n",
      "Position of dxl ID: 1 set to 549 \n",
      "Position of dxl ID: 2 set to 490 \n",
      "Position of dxl ID: 1 set to 303 \n",
      "Position of dxl ID: 2 set to 729 \n"
     ]
    }
   ],
   "source": [
    "import UR5_Interface as ur\n",
    "try:\n",
    "    ur = ur.UR5_Interface() #-- commneted out since I changed the class to an import -Jensen\n",
    "    ur.c,ur.r,ur.gripperController = con,rec,gripperController\n",
    "    ur.testRoutine()\n",
    "    \n",
    "    \n",
    "except Exception as e:\n",
    "    raise(e)\n",
    "finally:\n",
    "    pass\n",
    "    # ur.c.disconnect()\n",
    "    # ur.r.disconnect()\n"
   ]
  },
  {
   "cell_type": "code",
   "execution_count": 7,
   "metadata": {
    "tags": []
   },
   "outputs": [],
   "source": [
    "#Kinematic Model of the Robot in the Robotics Toolbox for Python (RTB) \n",
    "# Not needed but can be helpful for testing\n",
    "#import RTB_Model as r\n",
    "    "
   ]
  },
  {
   "cell_type": "code",
   "execution_count": 8,
   "metadata": {
    "tags": []
   },
   "outputs": [
    {
     "name": "stdout",
     "output_type": "stream",
     "text": [
      "[[1.   0.   0.   0.  ]\n",
      " [0.   1.   0.   0.25]\n",
      " [0.   0.   1.   0.25]\n",
      " [0.   0.   0.   1.  ]]\n",
      "IKSolution: q=[1.461, -1.408, 2.529, 2.021, -3.032, 0], success=True, iterations=13, searches=1, residual=5.1e-11\n",
      "[ 0.9250245  -1.95476876  2.51327412 -0.47996554  0.95993109  2.99673033]\n",
      "[ 0.92506869 -1.9547237   2.5132754  -0.47975943  0.95960208  2.99648334]\n",
      "[ 0.92536714 -1.95441938  2.51328404 -0.47836744  0.9573801   2.99481531]\n",
      "[ 0.92614477 -1.95362645  2.51330654 -0.47474045  0.9515905   2.99046907]\n",
      "[ 0.92759577 -1.95214689  2.51334852 -0.46797279  0.94078759  2.98235936]\n",
      "[ 0.92988493 -1.94981269  2.51341476 -0.45729583  0.92374443  2.9695651 ]\n",
      "[ 0.93314903 -1.94648435  2.51350921 -0.44207159  0.89944267  2.95132184]\n",
      "[ 0.9374982  -1.94204959  2.51363505 -0.42178643  0.86706238  2.92701404]\n",
      "[ 0.94301729 -1.93642188  2.51379475 -0.3960446   0.82597185  2.8961675 ]\n",
      "[ 0.94976723 -1.92953911  2.51399006 -0.36456192  0.77571745  2.85844166]\n",
      "[ 0.9577864  -1.92136212  2.5142221  -0.32715936  0.71601343  2.81362202]\n",
      "[ 0.96709199 -1.9118734   2.51449136 -0.28375673  0.64673175  2.76161246]\n",
      "[ 0.9776814  -1.9010756   2.51479777 -0.23436624  0.56789192  2.70242762]\n",
      "[ 0.98953354 -1.88899022  2.51514072 -0.17908617  0.47965081  2.63618526]\n",
      "[ 1.00261026 -1.87565615  2.5155191  -0.11809445  0.38229246  2.56309862]\n",
      "[ 1.0168577  -1.86112832  2.51593135 -0.05164234  0.27621794  2.48346877]\n",
      "[ 1.03220764 -1.8454763   2.51637551  0.01995197  0.16193515  2.397677  ]\n",
      "[ 1.04857887 -1.82878289  2.51684921  0.09630974  0.04004866  2.30617715]\n",
      "[ 1.06587857 -1.81114274  2.51734979  0.17699805 -0.08875048  2.209488  ]\n",
      "[ 1.08400369 -1.79266093  2.51787424  0.26153617 -0.2236949   2.10818559]\n",
      "[ 1.10284225 -1.77345163  2.51841934  0.34940195 -0.36395111  2.00289565]\n",
      "[ 1.1222748  -1.75363665  2.51898163  0.44003815 -0.50862962  1.89428589]\n",
      "[ 1.14217572 -1.73334409  2.51955747  0.53285889 -0.6567952   1.7830584 ]\n",
      "[ 1.1624146  -1.71270691  2.52014309  0.62725593 -0.80747698  1.66994201]\n",
      "[ 1.18285763 -1.69186158  2.52073462  0.72260514 -0.95967865  1.55568465]\n",
      "[ 1.20336893 -1.67094662  2.52132812  0.81827279 -1.11238864  1.44104568]\n",
      "[ 1.22381196 -1.65010128  2.52191965  0.913622   -1.26459031  1.32678831]\n",
      "[ 1.24405084 -1.62946411  2.52250527  1.00801904 -1.41527209  1.21367192]\n",
      "[ 1.26395175 -1.60917155  2.52308111  1.10083978 -1.56343767  1.10244443]\n",
      "[ 1.2833843  -1.58935657  2.52364339  1.19147598 -1.70811619  0.99383467]\n",
      "[ 1.30222287 -1.57014727  2.5241885   1.27934176 -1.84837239  0.88854473]\n",
      "[ 1.32034798 -1.55166546  2.52471295  1.36387988 -1.98331681  0.78724233]\n",
      "[ 1.33764769 -1.5340253   2.52521353  1.44456819 -2.11211595  0.69055318]\n",
      "[ 1.35401892 -1.51733189  2.52568723  1.52092596 -2.23400244  0.59905333]\n",
      "[ 1.36936886 -1.50167988  2.52613139  1.59252027 -2.34828523  0.51326156]\n",
      "[ 1.3836163  -1.48715205  2.52654364  1.65897238 -2.45435975  0.43363171]\n",
      "[ 1.39669302 -1.47381798  2.52692202  1.7199641  -2.5517181   0.36054507]\n",
      "[ 1.40854516 -1.4617326   2.52726497  1.77524417 -2.63995922  0.29430271]\n",
      "[ 1.41913456 -1.4509348   2.52757138  1.82463466 -2.71879904  0.23511787]\n",
      "[ 1.42844016 -1.44144607  2.52784064  1.86803729 -2.78808072  0.18310831]\n",
      "[ 1.43645933 -1.43326909  2.52807268  1.90543985 -2.84778474  0.13828867]\n",
      "[ 1.44320927 -1.42638631  2.52826799  1.93692253 -2.89803914  0.10056283]\n",
      "[ 1.44872836 -1.42075861  2.52842768  1.96266436 -2.93912967  0.06971628]\n",
      "[ 1.45307753 -1.41632385  2.52855353  1.98294952 -2.97150997  0.04540849]\n",
      "[ 1.45634163 -1.41299551  2.52864798  1.99817376 -2.99581173  0.02716522]\n",
      "[ 1.45863079 -1.4106613   2.52871422  2.00885072 -3.01285489  0.01437097]\n",
      "[ 1.46008178 -1.40918175  2.5287562   2.01561838 -3.0236578   0.00626125]\n",
      "[ 1.46085942e+00 -1.40838882e+00  2.52877870e+00  2.01924537e+00\n",
      " -3.02944739e+00  1.91502071e-03]\n",
      "[ 1.46115786e+00 -1.40808450e+00  2.52878734e+00  2.02063736e+00\n",
      " -3.03166937e+00  2.46984633e-04]\n",
      "[ 1.46120205e+00 -1.40803944e+00  2.52878862e+00  2.02084347e+00\n",
      " -3.03199838e+00  5.91199534e-10]\n"
     ]
    }
   ],
   "source": [
    "# unable to run last line, ''UR5' object has no attribute 'ikine_LMS' -Andrea\n",
    "import RTB_Model as r\n",
    "r = r.RTB_Model() #-- commneted out since I changed the class to an import -Jensen\n",
    "r.getCameraFrame()\n",
    "r.initSwiftEnv()\n",
    "r.addSwiftBox([0,0,0.5])\n",
    "r.simulateSwiftRobot()"
   ]
  },
  {
   "cell_type": "code",
   "execution_count": 10,
   "metadata": {
    "tags": []
   },
   "outputs": [],
   "source": [
    "#Needed for camera use!! -Jensen\n",
    "import RealSense as real"
   ]
  },
  {
   "cell_type": "code",
   "execution_count": 11,
   "metadata": {},
   "outputs": [
    {
     "name": "stdout",
     "output_type": "stream",
     "text": [
      "<pyrealsense2.[video_]stream_profile: Depth(0) 848x480 @ 10fps Z16>\n",
      "<pyrealsense2.[video_]stream_profile: Color(0) 848x480 @ 10fps RGB8>\n",
      "<pyrealsense2.[video_]stream_profile: Depth(0) 848x480 @ 10fps Z16>\n",
      "<pyrealsense2.[video_]stream_profile: Color(0) 848x480 @ 10fps RGB8>\n",
      "<pyrealsense2.[video_]stream_profile: Depth(0) 848x480 @ 10fps Z16>\n",
      "<pyrealsense2.[video_]stream_profile: Color(0) 848x480 @ 10fps RGB8>\n",
      "<pyrealsense2.[video_]stream_profile: Depth(0) 848x480 @ 10fps Z16>\n",
      "<pyrealsense2.[video_]stream_profile: Color(0) 848x480 @ 10fps RGB8>\n",
      "<pyrealsense2.[video_]stream_profile: Depth(0) 848x480 @ 10fps Z16>\n",
      "<pyrealsense2.[video_]stream_profile: Color(0) 848x480 @ 10fps RGB8>\n",
      "<pyrealsense2.[video_]stream_profile: Depth(0) 848x480 @ 10fps Z16>\n",
      "<pyrealsense2.[video_]stream_profile: Color(0) 848x480 @ 10fps RGB8>\n",
      "<pyrealsense2.[video_]stream_profile: Depth(0) 848x480 @ 10fps Z16>\n",
      "<pyrealsense2.[video_]stream_profile: Color(0) 848x480 @ 10fps RGB8>\n",
      "<pyrealsense2.[video_]stream_profile: Depth(0) 848x480 @ 10fps Z16>\n",
      "<pyrealsense2.[video_]stream_profile: Color(0) 848x480 @ 10fps RGB8>\n",
      "<pyrealsense2.[video_]stream_profile: Depth(0) 848x480 @ 10fps Z16>\n",
      "<pyrealsense2.[video_]stream_profile: Color(0) 848x480 @ 10fps RGB8>\n",
      "<pyrealsense2.[video_]stream_profile: Depth(0) 848x480 @ 10fps Z16>\n",
      "<pyrealsense2.[video_]stream_profile: Color(0) 848x480 @ 10fps RGB8>\n",
      "<pyrealsense2.[video_]stream_profile: Depth(0) 848x480 @ 10fps Z16>\n",
      "<pyrealsense2.[video_]stream_profile: Color(0) 848x480 @ 10fps RGB8>\n",
      "<pyrealsense2.[video_]stream_profile: Depth(0) 848x480 @ 10fps Z16>\n",
      "<pyrealsense2.[video_]stream_profile: Color(0) 848x480 @ 10fps RGB8>\n",
      "<pyrealsense2.[video_]stream_profile: Depth(0) 848x480 @ 10fps Z16>\n",
      "<pyrealsense2.[video_]stream_profile: Color(0) 848x480 @ 10fps RGB8>\n",
      "<pyrealsense2.[video_]stream_profile: Depth(0) 848x480 @ 10fps Z16>\n",
      "<pyrealsense2.[video_]stream_profile: Color(0) 848x480 @ 10fps RGB8>\n",
      "<pyrealsense2.[video_]stream_profile: Depth(0) 848x480 @ 10fps Z16>\n",
      "<pyrealsense2.[video_]stream_profile: Color(0) 848x480 @ 10fps RGB8>\n",
      "<pyrealsense2.[video_]stream_profile: Depth(0) 848x480 @ 10fps Z16>\n",
      "<pyrealsense2.[video_]stream_profile: Color(0) 848x480 @ 10fps RGB8>\n",
      "<pyrealsense2.[video_]stream_profile: Depth(0) 848x480 @ 10fps Z16>\n",
      "<pyrealsense2.[video_]stream_profile: Color(0) 848x480 @ 10fps RGB8>\n",
      "<pyrealsense2.[video_]stream_profile: Depth(0) 848x480 @ 10fps Z16>\n",
      "<pyrealsense2.[video_]stream_profile: Color(0) 848x480 @ 10fps RGB8>\n",
      "<pyrealsense2.[video_]stream_profile: Depth(0) 848x480 @ 10fps Z16>\n",
      "<pyrealsense2.[video_]stream_profile: Color(0) 848x480 @ 10fps RGB8>\n",
      "<pyrealsense2.[video_]stream_profile: Depth(0) 848x480 @ 10fps Z16>\n",
      "<pyrealsense2.[video_]stream_profile: Color(0) 848x480 @ 10fps RGB8>\n",
      "<pyrealsense2.[video_]stream_profile: Depth(0) 848x480 @ 10fps Z16>\n",
      "<pyrealsense2.[video_]stream_profile: Color(0) 848x480 @ 10fps RGB8>\n",
      "<pyrealsense2.[video_]stream_profile: Depth(0) 848x480 @ 10fps Z16>\n",
      "<pyrealsense2.[video_]stream_profile: Color(0) 848x480 @ 10fps RGB8>\n",
      "<pyrealsense2.[video_]stream_profile: Depth(0) 848x480 @ 10fps Z16>\n",
      "<pyrealsense2.[video_]stream_profile: Color(0) 848x480 @ 10fps RGB8>\n",
      "<pyrealsense2.[video_]stream_profile: Depth(0) 848x480 @ 10fps Z16>\n",
      "<pyrealsense2.[video_]stream_profile: Color(0) 848x480 @ 10fps RGB8>\n",
      "<pyrealsense2.[video_]stream_profile: Depth(0) 848x480 @ 10fps Z16>\n",
      "<pyrealsense2.[video_]stream_profile: Color(0) 848x480 @ 10fps RGB8>\n",
      "<pyrealsense2.[video_]stream_profile: Depth(0) 848x480 @ 10fps Z16>\n",
      "<pyrealsense2.[video_]stream_profile: Color(0) 848x480 @ 10fps RGB8>\n",
      "<pyrealsense2.[video_]stream_profile: Depth(0) 848x480 @ 10fps Z16>\n",
      "<pyrealsense2.[video_]stream_profile: Color(0) 848x480 @ 10fps RGB8>\n",
      "<pyrealsense2.[video_]stream_profile: Depth(0) 848x480 @ 10fps Z16>\n",
      "<pyrealsense2.[video_]stream_profile: Color(0) 848x480 @ 10fps RGB8>\n",
      "<pyrealsense2.[video_]stream_profile: Depth(0) 848x480 @ 10fps Z16>\n",
      "<pyrealsense2.[video_]stream_profile: Color(0) 848x480 @ 10fps RGB8>\n",
      "<pyrealsense2.[video_]stream_profile: Depth(0) 848x480 @ 10fps Z16>\n",
      "<pyrealsense2.[video_]stream_profile: Color(0) 848x480 @ 10fps RGB8>\n",
      "<pyrealsense2.[video_]stream_profile: Depth(0) 848x480 @ 10fps Z16>\n",
      "<pyrealsense2.[video_]stream_profile: Color(0) 848x480 @ 10fps RGB8>\n",
      "<pyrealsense2.[video_]stream_profile: Depth(0) 848x480 @ 10fps Z16>\n",
      "<pyrealsense2.[video_]stream_profile: Color(0) 848x480 @ 10fps RGB8>\n",
      "<pyrealsense2.[video_]stream_profile: Depth(0) 848x480 @ 10fps Z16>\n",
      "<pyrealsense2.[video_]stream_profile: Color(0) 848x480 @ 10fps RGB8>\n",
      "<pyrealsense2.[video_]stream_profile: Depth(0) 848x480 @ 10fps Z16>\n",
      "<pyrealsense2.[video_]stream_profile: Color(0) 848x480 @ 10fps RGB8>\n",
      "<pyrealsense2.[video_]stream_profile: Depth(0) 848x480 @ 10fps Z16>\n",
      "<pyrealsense2.[video_]stream_profile: Color(0) 848x480 @ 10fps RGB8>\n",
      "<pyrealsense2.[video_]stream_profile: Depth(0) 848x480 @ 10fps Z16>\n",
      "<pyrealsense2.[video_]stream_profile: Color(0) 848x480 @ 10fps RGB8>\n",
      "<pyrealsense2.[video_]stream_profile: Depth(0) 848x480 @ 10fps Z16>\n",
      "<pyrealsense2.[video_]stream_profile: Color(0) 848x480 @ 10fps RGB8>\n",
      "<pyrealsense2.[video_]stream_profile: Depth(0) 848x480 @ 10fps Z16>\n",
      "<pyrealsense2.[video_]stream_profile: Color(0) 848x480 @ 10fps RGB8>\n",
      "<pyrealsense2.[video_]stream_profile: Depth(0) 848x480 @ 10fps Z16>\n",
      "<pyrealsense2.[video_]stream_profile: Color(0) 848x480 @ 10fps RGB8>\n",
      "<pyrealsense2.[video_]stream_profile: Depth(0) 848x480 @ 10fps Z16>\n",
      "<pyrealsense2.[video_]stream_profile: Color(0) 848x480 @ 10fps RGB8>\n",
      "<pyrealsense2.[video_]stream_profile: Depth(0) 848x480 @ 10fps Z16>\n",
      "<pyrealsense2.[video_]stream_profile: Color(0) 848x480 @ 10fps RGB8>\n",
      "<pyrealsense2.[video_]stream_profile: Depth(0) 848x480 @ 10fps Z16>\n",
      "<pyrealsense2.[video_]stream_profile: Color(0) 848x480 @ 10fps RGB8>\n",
      "<pyrealsense2.[video_]stream_profile: Depth(0) 848x480 @ 10fps Z16>\n",
      "<pyrealsense2.[video_]stream_profile: Color(0) 848x480 @ 10fps RGB8>\n",
      "<pyrealsense2.[video_]stream_profile: Depth(0) 848x480 @ 10fps Z16>\n",
      "<pyrealsense2.[video_]stream_profile: Color(0) 848x480 @ 10fps RGB8>\n",
      "<pyrealsense2.[video_]stream_profile: Depth(0) 848x480 @ 10fps Z16>\n",
      "<pyrealsense2.[video_]stream_profile: Color(0) 848x480 @ 10fps RGB8>\n",
      "<pyrealsense2.[video_]stream_profile: Depth(0) 848x480 @ 10fps Z16>\n",
      "<pyrealsense2.[video_]stream_profile: Color(0) 848x480 @ 10fps RGB8>\n",
      "<pyrealsense2.[video_]stream_profile: Depth(0) 848x480 @ 10fps Z16>\n",
      "<pyrealsense2.[video_]stream_profile: Color(0) 848x480 @ 10fps RGB8>\n",
      "<pyrealsense2.[video_]stream_profile: Depth(0) 848x480 @ 10fps Z16>\n",
      "<pyrealsense2.[video_]stream_profile: Color(0) 848x480 @ 10fps RGB8>\n",
      "<pyrealsense2.[video_]stream_profile: Depth(0) 848x480 @ 10fps Z16>\n",
      "<pyrealsense2.[video_]stream_profile: Color(0) 848x480 @ 10fps RGB8>\n",
      "<pyrealsense2.[video_]stream_profile: Depth(0) 848x480 @ 10fps Z16>\n",
      "<pyrealsense2.[video_]stream_profile: Color(0) 848x480 @ 10fps RGB8>\n",
      "<pyrealsense2.[video_]stream_profile: Depth(0) 848x480 @ 10fps Z16>\n",
      "<pyrealsense2.[video_]stream_profile: Color(0) 848x480 @ 10fps RGB8>\n",
      "<pyrealsense2.[video_]stream_profile: Depth(0) 848x480 @ 10fps Z16>\n",
      "<pyrealsense2.[video_]stream_profile: Color(0) 848x480 @ 10fps RGB8>\n",
      "<pyrealsense2.[video_]stream_profile: Depth(0) 848x480 @ 10fps Z16>\n",
      "<pyrealsense2.[video_]stream_profile: Color(0) 848x480 @ 10fps RGB8>\n",
      "<pyrealsense2.[video_]stream_profile: Depth(0) 848x480 @ 10fps Z16>\n",
      "<pyrealsense2.[video_]stream_profile: Color(0) 848x480 @ 10fps RGB8>\n",
      "<pyrealsense2.[video_]stream_profile: Depth(0) 848x480 @ 10fps Z16>\n",
      "<pyrealsense2.[video_]stream_profile: Color(0) 848x480 @ 10fps RGB8>\n",
      "<pyrealsense2.[video_]stream_profile: Depth(0) 848x480 @ 10fps Z16>\n",
      "<pyrealsense2.[video_]stream_profile: Color(0) 848x480 @ 10fps RGB8>\n",
      "<pyrealsense2.[video_]stream_profile: Depth(0) 848x480 @ 10fps Z16>\n",
      "<pyrealsense2.[video_]stream_profile: Color(0) 848x480 @ 10fps RGB8>\n",
      "<pyrealsense2.[video_]stream_profile: Depth(0) 848x480 @ 10fps Z16>\n",
      "<pyrealsense2.[video_]stream_profile: Color(0) 848x480 @ 10fps RGB8>\n",
      "<pyrealsense2.[video_]stream_profile: Depth(0) 848x480 @ 10fps Z16>\n",
      "<pyrealsense2.[video_]stream_profile: Color(0) 848x480 @ 10fps RGB8>\n",
      "<pyrealsense2.[video_]stream_profile: Depth(0) 848x480 @ 10fps Z16>\n",
      "<pyrealsense2.[video_]stream_profile: Color(0) 848x480 @ 10fps RGB8>\n",
      "<pyrealsense2.[video_]stream_profile: Depth(0) 848x480 @ 10fps Z16>\n",
      "<pyrealsense2.[video_]stream_profile: Color(0) 848x480 @ 10fps RGB8>\n",
      "<pyrealsense2.[video_]stream_profile: Depth(0) 848x480 @ 10fps Z16>\n",
      "<pyrealsense2.[video_]stream_profile: Color(0) 848x480 @ 10fps RGB8>\n",
      "<pyrealsense2.[video_]stream_profile: Depth(0) 848x480 @ 10fps Z16>\n",
      "<pyrealsense2.[video_]stream_profile: Color(0) 848x480 @ 10fps RGB8>\n",
      "<pyrealsense2.[video_]stream_profile: Depth(0) 848x480 @ 10fps Z16>\n",
      "<pyrealsense2.[video_]stream_profile: Color(0) 848x480 @ 10fps RGB8>\n",
      "<pyrealsense2.[video_]stream_profile: Depth(0) 848x480 @ 10fps Z16>\n",
      "<pyrealsense2.[video_]stream_profile: Color(0) 848x480 @ 10fps RGB8>\n",
      "<pyrealsense2.[video_]stream_profile: Depth(0) 848x480 @ 10fps Z16>\n",
      "<pyrealsense2.[video_]stream_profile: Color(0) 848x480 @ 10fps RGB8>\n",
      "<pyrealsense2.[video_]stream_profile: Depth(0) 848x480 @ 10fps Z16>\n",
      "<pyrealsense2.[video_]stream_profile: Color(0) 848x480 @ 10fps RGB8>\n",
      "<pyrealsense2.[video_]stream_profile: Depth(0) 848x480 @ 10fps Z16>\n",
      "<pyrealsense2.[video_]stream_profile: Color(0) 848x480 @ 10fps RGB8>\n",
      "<pyrealsense2.[video_]stream_profile: Depth(0) 848x480 @ 10fps Z16>\n",
      "<pyrealsense2.[video_]stream_profile: Color(0) 848x480 @ 10fps RGB8>\n",
      "<pyrealsense2.[video_]stream_profile: Depth(0) 848x480 @ 10fps Z16>\n",
      "<pyrealsense2.[video_]stream_profile: Color(0) 848x480 @ 10fps RGB8>\n",
      "<pyrealsense2.[video_]stream_profile: Depth(0) 848x480 @ 10fps Z16>\n",
      "<pyrealsense2.[video_]stream_profile: Color(0) 848x480 @ 10fps RGB8>\n",
      "<pyrealsense2.[video_]stream_profile: Depth(0) 848x480 @ 10fps Z16>\n",
      "<pyrealsense2.[video_]stream_profile: Color(0) 848x480 @ 10fps RGB8>\n",
      "<pyrealsense2.[video_]stream_profile: Depth(0) 848x480 @ 10fps Z16>\n",
      "<pyrealsense2.[video_]stream_profile: Color(0) 848x480 @ 10fps RGB8>\n",
      "<pyrealsense2.[video_]stream_profile: Depth(0) 848x480 @ 10fps Z16>\n",
      "<pyrealsense2.[video_]stream_profile: Color(0) 848x480 @ 10fps RGB8>\n",
      "<pyrealsense2.[video_]stream_profile: Depth(0) 848x480 @ 10fps Z16>\n",
      "<pyrealsense2.[video_]stream_profile: Color(0) 848x480 @ 10fps RGB8>\n",
      "<pyrealsense2.[video_]stream_profile: Depth(0) 848x480 @ 10fps Z16>\n",
      "<pyrealsense2.[video_]stream_profile: Color(0) 848x480 @ 10fps RGB8>\n",
      "<pyrealsense2.[video_]stream_profile: Depth(0) 848x480 @ 10fps Z16>\n",
      "<pyrealsense2.[video_]stream_profile: Color(0) 848x480 @ 10fps RGB8>\n",
      "<pyrealsense2.[video_]stream_profile: Depth(0) 848x480 @ 10fps Z16>\n",
      "<pyrealsense2.[video_]stream_profile: Color(0) 848x480 @ 10fps RGB8>\n",
      "<pyrealsense2.[video_]stream_profile: Depth(0) 848x480 @ 10fps Z16>\n",
      "<pyrealsense2.[video_]stream_profile: Color(0) 848x480 @ 10fps RGB8>\n",
      "<pyrealsense2.[video_]stream_profile: Depth(0) 848x480 @ 10fps Z16>\n",
      "<pyrealsense2.[video_]stream_profile: Color(0) 848x480 @ 10fps RGB8>\n",
      "<pyrealsense2.[video_]stream_profile: Depth(0) 848x480 @ 10fps Z16>\n",
      "<pyrealsense2.[video_]stream_profile: Color(0) 848x480 @ 10fps RGB8>\n",
      "<pyrealsense2.[video_]stream_profile: Depth(0) 848x480 @ 10fps Z16>\n",
      "<pyrealsense2.[video_]stream_profile: Color(0) 848x480 @ 10fps RGB8>\n",
      "<pyrealsense2.[video_]stream_profile: Depth(0) 848x480 @ 10fps Z16>\n",
      "<pyrealsense2.[video_]stream_profile: Color(0) 848x480 @ 10fps RGB8>\n",
      "<pyrealsense2.[video_]stream_profile: Depth(0) 848x480 @ 10fps Z16>\n",
      "<pyrealsense2.[video_]stream_profile: Color(0) 848x480 @ 10fps RGB8>\n",
      "<pyrealsense2.[video_]stream_profile: Depth(0) 848x480 @ 10fps Z16>\n",
      "<pyrealsense2.[video_]stream_profile: Color(0) 848x480 @ 10fps RGB8>\n",
      "<pyrealsense2.[video_]stream_profile: Depth(0) 848x480 @ 10fps Z16>\n",
      "<pyrealsense2.[video_]stream_profile: Color(0) 848x480 @ 10fps RGB8>\n",
      "<pyrealsense2.[video_]stream_profile: Depth(0) 848x480 @ 10fps Z16>\n",
      "<pyrealsense2.[video_]stream_profile: Color(0) 848x480 @ 10fps RGB8>\n",
      "<pyrealsense2.[video_]stream_profile: Depth(0) 848x480 @ 10fps Z16>\n",
      "<pyrealsense2.[video_]stream_profile: Color(0) 848x480 @ 10fps RGB8>\n",
      "<pyrealsense2.[video_]stream_profile: Depth(0) 848x480 @ 10fps Z16>\n",
      "<pyrealsense2.[video_]stream_profile: Color(0) 848x480 @ 10fps RGB8>\n",
      "<pyrealsense2.[video_]stream_profile: Depth(0) 848x480 @ 10fps Z16>\n",
      "<pyrealsense2.[video_]stream_profile: Color(0) 848x480 @ 10fps RGB8>\n",
      "<pyrealsense2.[video_]stream_profile: Depth(0) 848x480 @ 10fps Z16>\n",
      "<pyrealsense2.[video_]stream_profile: Color(0) 848x480 @ 10fps RGB8>\n",
      "<pyrealsense2.[video_]stream_profile: Depth(0) 848x480 @ 10fps Z16>\n",
      "<pyrealsense2.[video_]stream_profile: Color(0) 848x480 @ 10fps RGB8>\n",
      "<pyrealsense2.[video_]stream_profile: Depth(0) 848x480 @ 10fps Z16>\n",
      "<pyrealsense2.[video_]stream_profile: Color(0) 848x480 @ 10fps RGB8>\n",
      "<pyrealsense2.[video_]stream_profile: Depth(0) 848x480 @ 10fps Z16>\n",
      "<pyrealsense2.[video_]stream_profile: Color(0) 848x480 @ 10fps RGB8>\n",
      "<pyrealsense2.[video_]stream_profile: Depth(0) 848x480 @ 10fps Z16>\n",
      "<pyrealsense2.[video_]stream_profile: Color(0) 848x480 @ 10fps RGB8>\n",
      "<pyrealsense2.[video_]stream_profile: Depth(0) 848x480 @ 10fps Z16>\n",
      "<pyrealsense2.[video_]stream_profile: Color(0) 848x480 @ 10fps RGB8>\n",
      "<pyrealsense2.[video_]stream_profile: Depth(0) 848x480 @ 10fps Z16>\n",
      "<pyrealsense2.[video_]stream_profile: Color(0) 848x480 @ 10fps RGB8>\n",
      "<pyrealsense2.[video_]stream_profile: Depth(0) 848x480 @ 10fps Z16>\n",
      "<pyrealsense2.[video_]stream_profile: Color(0) 848x480 @ 10fps RGB8>\n",
      "<pyrealsense2.[video_]stream_profile: Depth(0) 848x480 @ 10fps Z16>\n",
      "<pyrealsense2.[video_]stream_profile: Color(0) 848x480 @ 10fps RGB8>\n",
      "<pyrealsense2.[video_]stream_profile: Depth(0) 848x480 @ 10fps Z16>\n",
      "<pyrealsense2.[video_]stream_profile: Color(0) 848x480 @ 10fps RGB8>\n"
     ]
    }
   ],
   "source": [
    "pipe = rs.pipeline()\n",
    "config = rs.config()\n",
    "profile = pipe.start()\n",
    "try:\n",
    "  for i in range(0, 100):\n",
    "    frames = pipe.wait_for_frames()\n",
    "    for f in frames:\n",
    "      print(f.profile)\n",
    "finally:\n",
    "    pipe.stop()"
   ]
  },
  {
   "cell_type": "code",
   "execution_count": 12,
   "metadata": {},
   "outputs": [
    {
     "ename": "NameError",
     "evalue": "name 'np' is not defined",
     "output_type": "error",
     "traceback": [
      "\u001b[0;31m---------------------------------------------------------------------------\u001b[0m",
      "\u001b[0;31mNameError\u001b[0m                                 Traceback (most recent call last)",
      "Cell \u001b[0;32mIn[12], line 2\u001b[0m\n\u001b[1;32m      1\u001b[0m \u001b[38;5;66;03m# robot_model = RTB_Model()\u001b[39;00m\n\u001b[0;32m----> 2\u001b[0m real \u001b[38;5;241m=\u001b[39m \u001b[43mreal\u001b[49m\u001b[38;5;241;43m.\u001b[39;49m\u001b[43mRealSense\u001b[49m\u001b[43m(\u001b[49m\u001b[43m)\u001b[49m \u001b[38;5;66;03m#-- not need since Imported --Jensen\u001b[39;00m\n\u001b[1;32m      3\u001b[0m real\u001b[38;5;241m.\u001b[39minitConnection()\n\u001b[1;32m      4\u001b[0m \u001b[38;5;66;03m# real.getPCD(True)\u001b[39;00m\n\u001b[1;32m      5\u001b[0m \u001b[38;5;66;03m# real.extrinsics = np.array(robot_model.getCameraFrame())\u001b[39;00m\n\u001b[1;32m      6\u001b[0m \u001b[38;5;66;03m# print(real.extrinsics)\u001b[39;00m\n",
      "File \u001b[0;32m~/ris/Independent-Study-Robotics/Full-System/RealSense.py:9\u001b[0m, in \u001b[0;36mRealSense.__init__\u001b[0;34m(self, zMax, voxelSize)\u001b[0m\n\u001b[1;32m      7\u001b[0m \u001b[38;5;28mself\u001b[39m\u001b[38;5;241m.\u001b[39mvoxelSize \u001b[38;5;241m=\u001b[39m voxelSize\n\u001b[1;32m      8\u001b[0m \u001b[38;5;28mself\u001b[39m\u001b[38;5;241m.\u001b[39mpcd \u001b[38;5;241m=\u001b[39m o3d\u001b[38;5;241m.\u001b[39mgeometry\u001b[38;5;241m.\u001b[39mPointCloud()  \u001b[38;5;66;03m# current pcd from realsense\u001b[39;00m\n\u001b[0;32m----> 9\u001b[0m \u001b[38;5;28mself\u001b[39m\u001b[38;5;241m.\u001b[39mextrinsics \u001b[38;5;241m=\u001b[39m \u001b[43mnp\u001b[49m\u001b[38;5;241m.\u001b[39meye(\u001b[38;5;241m4\u001b[39m)  \u001b[38;5;66;03m# extrinsic parameters of the camera frame 4 x 4 numpy array\u001b[39;00m\n\u001b[1;32m     10\u001b[0m \u001b[38;5;28mself\u001b[39m\u001b[38;5;241m.\u001b[39mcameraFrameTransform \u001b[38;5;241m=\u001b[39m np\u001b[38;5;241m.\u001b[39meye(\u001b[38;5;241m4\u001b[39m)\n\u001b[1;32m     11\u001b[0m \u001b[38;5;28mself\u001b[39m\u001b[38;5;241m.\u001b[39mpipe, \u001b[38;5;28mself\u001b[39m\u001b[38;5;241m.\u001b[39mconfig \u001b[38;5;241m=\u001b[39m \u001b[38;5;28;01mNone\u001b[39;00m, \u001b[38;5;28;01mNone\u001b[39;00m\n",
      "\u001b[0;31mNameError\u001b[0m: name 'np' is not defined"
     ]
    }
   ],
   "source": [
    "\n",
    "# robot_model = RTB_Model()\n",
    "real = real.RealSense() #-- not need since Imported --Jensen\n",
    "real.initConnection()\n",
    "# real.getPCD(True)\n",
    "# real.extrinsics = np.array(robot_model.getCameraFrame())\n",
    "# print(real.extrinsics)\n",
    "pcd,rgbdImage = real.getPCD(False)\n",
    "depthImage,colorImage = rgbdImage.depth,rgbdImage.color\n",
    "real.displayImages(colorImage,depthImage)\n",
    "# real.displayPCD(pcd)\n",
    "real.pipe.stop()\n",
    "\n",
    "# o3d.visualization.draw()\n",
    "# r.displayStream()\n",
    "# finally:\n",
    "#     r.pipe.stop()\n",
    "# profile = pipe.start(config)\n",
    "# depth_sensor = profile.get_device().first_depth_sensor()\n",
    "# print(\n",
    "# r.displayStream(pipe,config)\n"
   ]
  },
  {
   "cell_type": "code",
   "execution_count": null,
   "metadata": {
    "tags": []
   },
   "outputs": [],
   "source": [
    "# real = RealSense()\n",
    "# real.initConnection()\n",
    "# real.displayStream()"
   ]
  },
  {
   "cell_type": "code",
   "execution_count": null,
   "metadata": {
    "tags": []
   },
   "outputs": [],
   "source": [
    "\n",
    "robot_model = r.RTB_Model()\n",
    "real = real.RealSense()\n",
    "real.extrinsics = np.array(robot_model.getCameraFrame())\n",
    "print(real.extrinsics)\n",
    "pcd = o3d.io.read_point_cloud(\"pcd1.pcd\")\n",
    "real.displayPCD(pcd)\n"
   ]
  },
  {
   "cell_type": "code",
   "execution_count": null,
   "metadata": {
    "tags": []
   },
   "outputs": [],
   "source": [
    "#Needed for the experiment --Jensen\n",
    "import Block "
   ]
  },
  {
   "cell_type": "code",
   "execution_count": null,
   "metadata": {
    "tags": []
   },
   "outputs": [],
   "source": [
    "#Needed for the experiment I think --Jensen\n",
    "import ObjectDetection"
   ]
  },
  {
   "cell_type": "code",
   "execution_count": null,
   "metadata": {
    "tags": []
   },
   "outputs": [],
   "source": [
    "#Needed \n",
    "import MotionPlanner"
   ]
  },
  {
   "cell_type": "code",
   "execution_count": null,
   "metadata": {
    "tags": []
   },
   "outputs": [],
   "source": []
  },
  {
   "cell_type": "code",
   "execution_count": null,
   "metadata": {
    "tags": []
   },
   "outputs": [],
   "source": [
    "# TASK PLANNER CODE\n",
    "\n",
    "import blocksDomain\n",
    "import blocksProblem\n",
    "#contiuation of code above --Jesnen\n",
    "import TaskPlanner"
   ]
  },
  {
   "cell_type": "code",
   "execution_count": null,
   "metadata": {
    "tags": []
   },
   "outputs": [],
   "source": [
    "# EXPERIMENT STEP (0) - Hardware Discovery\n",
    "# Call this once to intialize serial connections to ur and gripper\n",
    "\n",
    "robotIP = \"192.168.0.6\"\n",
    "con = rtde_control.RTDEControlInterface(robotIP)\n",
    "rec = rtde_receive.RTDEReceiveInterface(robotIP)"
   ]
  },
  {
   "cell_type": "code",
   "execution_count": null,
   "metadata": {
    "tags": []
   },
   "outputs": [],
   "source": []
  },
  {
   "cell_type": "code",
   "execution_count": null,
   "metadata": {
    "tags": []
   },
   "outputs": [],
   "source": [
    "# EXPERIMENT STEP (0) - Gripper Discovery\n",
    "# To list serial ports of the motor interface\n",
    "# $ python -m serial.tools.list_ports\n",
    "servoPort = \"/dev/ttyACM0\"\n",
    "gripperController = Motors(servoPort)\n",
    "gripperController.torquelimit(600) # used to be 600\n",
    "gripperController.speedlimit(100)\n",
    "ur = UR5_Interface()\n",
    "ur.gripperController = gripperController"
   ]
  },
  {
   "cell_type": "code",
   "execution_count": null,
   "metadata": {
    "tags": []
   },
   "outputs": [],
   "source": [
    "# EXPERIMENT STEP (1) - Hardware Interface Initialization\n",
    "try:\n",
    "    # robotIP = \"192.168.0.6\"\n",
    "    # con = rtde_control.RTDEControlInterface(robotIP)\n",
    "    # rec = rtde_receive.RTDEReceiveInterface(robotIP)\n",
    "    # ur = UR5_Interface()\n",
    "    ur.c = con\n",
    "    ur.r = rec\n",
    "    ur.gripperController = gripperController\n",
    "except Exception as e:\n",
    "    raise(e)\n",
    "else:\n",
    "    print(\"UR5 + Gripper Interface Established\")"
   ]
  },
  {
   "cell_type": "code",
   "execution_count": null,
   "metadata": {
    "tags": []
   },
   "outputs": [],
   "source": [
    "ur.c.disconnect()\n",
    "ur.r.disconnect()"
   ]
  },
  {
   "cell_type": "code",
   "execution_count": null,
   "metadata": {
    "tags": []
   },
   "outputs": [],
   "source": [
    "# EXPERIMENT STEP (2) - Hardware Test - Raises gripper 1 cm and open's closes gripper\n",
    "ur.testRoutine()"
   ]
  },
  {
   "cell_type": "code",
   "execution_count": null,
   "metadata": {
    "tags": []
   },
   "outputs": [],
   "source": [
    "# EXPERIMENT STEP (3) - Initialize connection to RealSense\n",
    "real = RealSense()\n",
    "real.initConnection()\n",
    "# real.displayStream()"
   ]
  },
  {
   "cell_type": "code",
   "execution_count": null,
   "metadata": {
    "tags": []
   },
   "outputs": [],
   "source": [
    "# EXPERIMENT STEP (4) - RealSense and YOLO Initialization\n",
    "# robot_model steps can deleted once extrinsic-free transforms are verfied to be correct\n",
    "# robot_model = RTB_Model()\n",
    "# robot_model.setJointAngles(ur.getJointAngles())\n",
    "try:\n",
    "    detector = ObjectDetection(real,None,moveRelative = True)\n",
    "except Exception as e:\n",
    "    detector.real.pipe.stop()\n",
    "    raise(e)"
   ]
  },
  {
   "cell_type": "code",
   "execution_count": null,
   "metadata": {
    "tags": []
   },
   "outputs": [],
   "source": [
    "ur.openGripper()"
   ]
  },
  {
   "cell_type": "code",
   "execution_count": null,
   "metadata": {
    "tags": []
   },
   "outputs": [],
   "source": [
    "# EXPERIMENT STEP (5) - Image Measurements, Segmentation, and Processing into Blocks\n",
    "urPose = ur.getPose()\n",
    "pcd,rgbdImage = detector.real.getPCD()\n",
    "depthImage,colorImage = rgbdImage.depth,rgbdImage.color\n",
    "blocks = detector.getBlocksFromImages(colorImage,depthImage,urPose,display = True)\n",
    "for block in blocks:\n",
    "    print(f\"{block.name}:\")\n",
    "    print(f\"CamFrameCoords: {block.camFrameCoords}\")\n",
    "    print(f\"GripperFrameCoords: {block.gripperFrameCoords}\")\n",
    "    print(f\"WorldFrameCoords: {block.worldFrameCoords}\")"
   ]
  },
  {
   "cell_type": "code",
   "execution_count": null,
   "metadata": {
    "tags": []
   },
   "outputs": [],
   "source": [
    "# EXPERIMENT STEP (4) - Displaying PCD\n",
    "detector.displayWorld(pcd,blocks)"
   ]
  },
  {
   "cell_type": "code",
   "execution_count": null,
   "metadata": {
    "tags": []
   },
   "outputs": [],
   "source": [
    "ur.openGripper()"
   ]
  },
  {
   "cell_type": "code",
   "execution_count": null,
   "metadata": {
    "tags": []
   },
   "outputs": [],
   "source": [
    "# EXPERIMENT STEP (5) - Task Planning\n",
    "planner = TaskPlanner(blocks)\n",
    "goalDict = {\"on\":[(\"blueBlock\",\"yellowBlock\")]}\n",
    "steps = planner.generatePlan(goalDict)\n",
    "print(steps)\n",
    "for block in blocks:\n",
    "    print(f\"{block.name} - {list(block.gripperFrameCoords)}\")\n"
   ]
  },
  {
   "cell_type": "code",
   "execution_count": null,
   "metadata": {
    "tags": []
   },
   "outputs": [],
   "source": []
  },
  {
   "cell_type": "code",
   "execution_count": null,
   "metadata": {
    "tags": []
   },
   "outputs": [],
   "source": [
    "# EXPERIMENT STEP (6) - Grasping blocks at each position in steps, returning to start position, moving to release position, moving back to start, opening gripper\n",
    "sleepRate = 0.75\n",
    "def projectToWorldCoords(gripperFrameCoords):\n",
    "    # given a goal position in gripper coords returns the displacements from the current pose in world coords\n",
    "    xB,yB,zB = gripperFrameCoords\n",
    "    # subtract 0.165 from block position in gripper frame to account for gripper length\n",
    "    zB -= 0.155\n",
    "    currentPose = ur.getPose() #SE3 Object\n",
    "    # print(f\"Current Pose:\\n{currentPose*1000}\")\n",
    "    R = currentPose.R \n",
    "    pX,pY,pZ = tuple(currentPose.t)\n",
    "    # xB,yB,zB here is the block position in the gripper frame which is aligned with the optoforce frame\n",
    "    P_goal = np.matmul(R,np.array([xB,yB,zB]).T)  # relative position of the block in world coordinates\n",
    "    print(f\"P_goal:\\n{P_goal}\")\n",
    "    dX,dY,dZ = tuple(P_goal) # quantities and directions the the gripper frame should be incremented to be centered at the block \n",
    "    return dX,dY,dZ\n",
    "    \n",
    "def moveToBlock(blockPos):\n",
    "    # would be better if this was block object\n",
    "    # :blockPos is coord in gripper frame\n",
    "    dX,dY,dZ = projectToWorldCoords(blockPos) # goalPose in world coordinates\n",
    "    homePose = ur.getPose()\n",
    "    dZ  += 7/1000 # up 7 mm to avoid hitting lower block\n",
    "    goal1 = copy.deepcopy(homePose)\n",
    "    goal1.t[2] += dZ\n",
    "    ur.moveL(goal1)\n",
    "    time.sleep(sleepRate)\n",
    "    goal2 = goal1\n",
    "    goal2.t[0] += dX\n",
    "    goal2.t[1] += dY\n",
    "    ur.moveL(goal2)\n",
    "    time.sleep(sleepRate)\n",
    "    \n",
    "def moveBackFromBlock(homePose):    \n",
    "    currentPose = ur.getPose()\n",
    "    # Move up 3 mm to avoid raise block to prevent friction from toppling lower block\n",
    "    goal1 = copy.deepcopy(currentPose)\n",
    "    goal1.t[2] += 3/1000\n",
    "    ur.moveL(goal1)\n",
    "    time.sleep(sleepRate)\n",
    "    currentPose = ur.getPose()\n",
    "    dX,dY,dZ = tuple(homePose.t - currentPose.t)\n",
    "    # Move in the XY Plane then Z Axis\n",
    "    goal2 = copy.deepcopy(currentPose)\n",
    "    goal2.t[0] += dX\n",
    "    goal2.t[1] += dY\n",
    "    ur.moveL(goal2)\n",
    "    time.sleep(sleepRate)\n",
    "    # Move in Z Axis back to home\n",
    "    goal3 = copy.deepcopy(goal2)\n",
    "    goal3.t[2] += dZ\n",
    "    ur.moveL(goal3)\n",
    "    time.sleep(sleepRate)\n",
    "\n",
    "\n",
    "    \n",
    "goalBlock = blocks[1]\n",
    "blockLength = 0.02\n",
    "releaseCoords = goalBlock.gripperFrameCoords + goalBlock.getWorldFrameVerticalInGripper(blockLength)\n",
    "verticalDist = 0.02\n",
    "gX,gY,gZ = tuple(goalBlock.urPose.t)\n",
    "res = np.matmul(goalBlock.urPose.R,(sm.SE3.Trans([gX,gY,gZ+verticalDist]).t - goalBlock.urPose.t))\n",
    "# print(f\"res: {projectToWorldCoords(res)} \")\n",
    "# ur.openGripper() # Open gripper\n",
    "# ur.testRoutine()\n",
    "# homePose = ur.getPose()\n",
    "'''\n",
    "for step in steps:\n",
    "    # Grasp and Move Home Step\n",
    "    grabPos,releasePos = step\n",
    "    moveToBlock(grabPos) \n",
    "    print(\"Done moving to block\")\n",
    "    ur.closeGripper(9) \n",
    "    time.sleep(sleepRate)\n",
    "    moveBackFromBlock(homePose)\n",
    "    moveToBlock(releasePos)\n",
    "    ur.closeGripper(55)\n",
    "    moveBackFromBlock(homePose)\n",
    "    ur.openGripper()\n",
    "'''"
   ]
  },
  {
   "cell_type": "code",
   "execution_count": null,
   "metadata": {
    "tags": []
   },
   "outputs": [],
   "source": []
  },
  {
   "cell_type": "code",
   "execution_count": null,
   "metadata": {
    "tags": []
   },
   "outputs": [],
   "source": [
    "ur.c.disconnect()\n",
    "ur.r.disconnect()\n",
    "time.sleep(2)\n",
    "try:\n",
    "    robotIP = \"192.168.0.6\"\n",
    "    con = rtde_control.RTDEControlInterface(robotIP)\n",
    "    rec = rtde_receive.RTDEReceiveInterface(robotIP)\n",
    "    #ur = UR5_Interface() -- commented out since when imported it is defined as ur. if you run this before importing uncommnet --Jensen\n",
    "    ur.c = con\n",
    "    ur.r = rec\n",
    "    ur.gripperController = gripperController\n",
    "    time.sleep(5)\n",
    "    ur.testRoutine()\n",
    "except Exception as e:\n",
    "    raise(e)\n",
    "else:\n",
    "    print(\"UR5 + Gripper Interface Established\")\n",
    "\n"
   ]
  },
  {
   "cell_type": "code",
   "execution_count": null,
   "metadata": {
    "tags": []
   },
   "outputs": [],
   "source": []
  },
  {
   "cell_type": "code",
   "execution_count": null,
   "metadata": {
    "tags": []
   },
   "outputs": [],
   "source": [
    "planner.locPositions[\"loc-a\"]"
   ]
  },
  {
   "cell_type": "code",
   "execution_count": null,
   "metadata": {
    "tags": []
   },
   "outputs": [],
   "source": [
    "ur.moveL(homePose)"
   ]
  },
  {
   "cell_type": "code",
   "execution_count": null,
   "metadata": {
    "tags": []
   },
   "outputs": [],
   "source": [
    "ur.openGripper()"
   ]
  },
  {
   "cell_type": "code",
   "execution_count": null,
   "metadata": {},
   "outputs": [],
   "source": [
    "ur.moveL(homePose)"
   ]
  },
  {
   "cell_type": "code",
   "execution_count": null,
   "metadata": {
    "tags": []
   },
   "outputs": [],
   "source": [
    "ur.openGripper()"
   ]
  },
  {
   "cell_type": "code",
   "execution_count": null,
   "metadata": {
    "tags": []
   },
   "outputs": [],
   "source": [
    "# MAY WANT TO BREAK THIS UP INTO SEPARATE CELLS\n",
    "import UR5_Interface as ur \n",
    "def runRoutine():\n",
    "    print(\"1\")\n",
    "    try:\n",
    "        #ur = UR5_Interface()\n",
    "        ur.c = con\n",
    "        ur.r = rec\n",
    "        ur.gripperController = gripperController\n",
    "    except Exception as e:\n",
    "        raise(e)\n",
    "        \n",
    "    print(\"2\")\n",
    "    # robot_model = RTB_Model()\n",
    "    # robot_model.setJointAngles(ur.getJointAngles())\n",
    "    # Set joint angles so object detection has correct extrinsics\n",
    "    \n",
    "    # Instantiates ObjectDetection object which intializes a connection to the realsense\n",
    "    detector = ObjectDetection(robot_model,moveRelative = True)\n",
    "    \n",
    "    try:\n",
    "        \n",
    "        ur.openGripper()\n",
    "        print(f\"Nth Frame Pose:\\n{np.array(ur.getPose())}\")\n",
    "        # Takes images for display\n",
    "        pcd,rgbdImage = detector.real.getPCD()\n",
    "        depthImage,colorImage = rgbdImage.depth,rgbdImage.color\n",
    "        # detector.real.displayImages(depthImage,colorImage)\n",
    "        \n",
    "        blocks = detector.getBlocksFromImages(colorImage,depthImage)\n",
    "        for block in blocks:\n",
    "            print(f\"{block.name}:\")\n",
    "            print(f\"CamFrameCoords: {block.camFrameCoords}\")\n",
    "            print(f\"GripperFrameCoords: {block.gripperFrameCoords}\")\n",
    "            print(f\"WorldFrameCoords: {block.worldFrameCoords}\")\n",
    "        m = MotionPlanner(blocks,moveRelative = True)\n",
    "        # Interface to the UR5\n",
    "        m.ur = ur \n",
    "        # m.rtb_model = robot_model\n",
    "        redBlock,yellowBlock,blueBlock = blocks\n",
    "        redPCD,yellowPCD,bluePCD = redBlock.blockPCD,yellowBlock.blockPCD,blueBlock.blockPCD\n",
    "        redAABB,yellowAABB,blueAABB = redBlock.blockAABB,yellowBlock.blockAABB,blueBlock.blockAABB,\n",
    "        detector.real.displayPCD([redPCD,yellowPCD,bluePCD,redAABB,yellowAABB,blueAABB])\n",
    "        m.runMovement()\n",
    "        # time.sleep(3)\n",
    "        # ur.closeGripper(10)\n",
    "        \n",
    "    except Exception as e:\n",
    "        raise(e)\n",
    "    finally:\n",
    "        detector.real.pipe.stop()\n",
    "        # ur.c.disconnect()\n",
    "        # ur.r.disconnect()\n",
    "runRoutine()"
   ]
  },
  {
   "cell_type": "code",
   "execution_count": null,
   "metadata": {
    "tags": []
   },
   "outputs": [],
   "source": [
    "ur.c.disconnect()\n",
    "ur.r.disconnect()"
   ]
  },
  {
   "cell_type": "code",
   "execution_count": null,
   "metadata": {},
   "outputs": [],
   "source": []
  },
  {
   "cell_type": "markdown",
   "metadata": {
    "tags": []
   },
   "source": [
    "robot_model = RTB_Model()\n",
    "robot_model.plotRobot()\n",
    "x,y,z = [],[],[]\n",
    "for point in redPCD.points:\n",
    "    x.append(point[0])\n",
    "    y.append(point[1])\n",
    "    z.append(point[2])\n",
    "\n",
    "print(np.mean(x))\n",
    "print(np.mean(y))\n",
    "print(np.mean(z))\n",
    "fig = plt.figure()\n",
    "ax = fig.add_subplot(projection='3d')\n",
    "ax.scatter(x,y,z)\n",
    "plt.show()"
   ]
  },
  {
   "cell_type": "code",
   "execution_count": null,
   "metadata": {},
   "outputs": [],
   "source": [
    "(real.extrinsics is None) == False"
   ]
  },
  {
   "cell_type": "code",
   "execution_count": null,
   "metadata": {},
   "outputs": [],
   "source": []
  }
 ],
 "metadata": {
  "kernelspec": {
   "display_name": "Python 3 (ipykernel)",
   "language": "python",
   "name": "python3"
  },
  "language_info": {
   "codemirror_mode": {
    "name": "ipython",
    "version": 3
   },
   "file_extension": ".py",
   "mimetype": "text/x-python",
   "name": "python",
   "nbconvert_exporter": "python",
   "pygments_lexer": "ipython3",
   "version": "3.10.12"
  }
 },
 "nbformat": 4,
 "nbformat_minor": 4
}
